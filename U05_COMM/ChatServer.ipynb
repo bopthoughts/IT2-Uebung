{
 "cells": [
  {
   "cell_type": "markdown",
   "metadata": {},
   "source": [
    "### Lokaler Chatserver/ \n",
    "\n",
    "Starten Sie den Server, indem Sie die das Notebook ausführen. Achten Sie darauf, ob Sie unten \"Waiting for connection\" sehen. Sollte das nicht der Fall sein, stoppen Sie den Kernel und starten erneut. Falls \"Address already in use\" erscheint, warten Sie etwas ab, bevor Sie neustarten. Alternativ können Sie auch über das \"Hub Control Panel\" Ihren Server neu starten."
   ]
  },
  {
   "cell_type": "code",
   "execution_count": 1,
   "metadata": {
    "tags": []
   },
   "outputs": [],
   "source": [
    "import socket\n",
    "import threading"
   ]
  },
  {
   "cell_type": "code",
   "execution_count": 2,
   "metadata": {
    "tags": []
   },
   "outputs": [],
   "source": [
    "host = ('', 5000)\n",
    "BUFSIZ = 1024\n",
    "WAITING_LIMIT = 5"
   ]
  },
  {
   "cell_type": "code",
   "execution_count": 3,
   "metadata": {
    "tags": []
   },
   "outputs": [],
   "source": [
    "# Diese Funktion wird in einem Thread ausgeführt, der beim Start der Anwendung instanziiert wird\n",
    "def accept_incoming_connections(clients):\n",
    "    \"\"\"Sets up handling for incoming clients.\"\"\"\n",
    "    while True:\n",
    "        # Hier warten wir auf eine neue Anmeldung\n",
    "        client_socket, client_address = server_socket.accept()\n",
    "        print(f'{client_address} ist beigetreten.')\n",
    "        # Wir senden ein Eingabeaufforderung\n",
    "        client_socket.send('Bitte Namen eingeben'.encode())\n",
    "        # Antwort erwarten\n",
    "        name = client_socket.recv(BUFSIZ).decode()\n",
    "        # Wir informieren alle bereits angemeldeten über den Neuzugang\n",
    "        msg = f'{name} ist im Chat!'\n",
    "        broadcast(msg, clients)\n",
    "        print(msg)\n",
    "        # die weitere Behandlung der Ein- und Ausgaben für den Client überlassen wir einem weiteren Thread\n",
    "        client_thread = threading.Thread(target=handle_client, args=(clients, name))\n",
    "        # Wir registrieren den neuen Client mit Thread und Socket\n",
    "        clients[name] = {'socket': client_socket, 'thread': client_thread}\n",
    "        # und starten ihn\n",
    "        client_thread.start()\n",
    "        # Man beachte, dass man einem Thread Argumente übergeben kann, hier den Socket des Clients\n",
    "    # Achtung. Diese Funktion (und damit der Thread) terminiert nie!"
   ]
  },
  {
   "cell_type": "code",
   "execution_count": 4,
   "metadata": {
    "tags": []
   },
   "outputs": [],
   "source": [
    "# Diese Funktion wird in einem Thread ausgeführt, der nach der Anmeldung eines neuen Users instanziiert wird\n",
    "def handle_client(clients, name):  \n",
    "    \"\"\"Handles a single client connection.\"\"\"\n",
    "    client_socket = clients[name]['socket']\n",
    "    # Wir lesen die Antwort auf die in accept gesendete Eingabeaufforderung\n",
    "    welcome = f'Willkommen {name}! Zum Verlassen \"<ende>\" eingeben.'\n",
    "    # und schicken ihm eine freundliche Begrüßung\n",
    "    client_socket.send(welcome.encode())\n",
    "    while True:\n",
    "        # Lesen einer neuen Message\n",
    "        msg = client_socket.recv(BUFSIZ).decode()\n",
    "        if msg != '<ende>':\n",
    "            broadcast(msg, clients, prefix=name)\n",
    "        else:\n",
    "            # der Client möchte uns verlassen \n",
    "            client_socket.send(f' ... und tschüss {name}'.encode())\n",
    "            # wir schließen den Socket\n",
    "            client_socket.close()\n",
    "            # und löschen den Client aus der Liste\n",
    "            msg = f'{name} hat den Chat verlassen.'\n",
    "            broadcast(msg, clients)\n",
    "            print(msg)\n",
    "            break"
   ]
  },
  {
   "cell_type": "code",
   "execution_count": 5,
   "metadata": {
    "tags": []
   },
   "outputs": [],
   "source": [
    "def broadcast(msg, clients, prefix='Server'):  # prefix is for name identification.\n",
    "    \"\"\"Broadcasts a message to all the clients.\"\"\"\n",
    "    for name in clients:\n",
    "        if clients[name]['thread'].is_alive():\n",
    "            clients[name]['socket'].send(f'{prefix}: {msg}'.encode())"
   ]
  },
  {
   "cell_type": "code",
   "execution_count": null,
   "metadata": {
    "tags": []
   },
   "outputs": [
    {
     "name": "stdout",
     "output_type": "stream",
     "text": [
      "Waiting for connection...\n",
      "('127.0.0.1', 49076) ist beigetreten.\n",
      "Manfred ist im Chat!\n",
      "('172.18.0.12', 43980) ist beigetreten.\n",
      "lw6014s ist im Chat!\n",
      "('172.18.0.14', 39792) ist beigetreten.\n",
      "cw1515s ist im Chat!\n",
      "('172.18.0.15', 55774) ist beigetreten.\n"
     ]
    },
    {
     "name": "stderr",
     "output_type": "stream",
     "text": [
      "Exception in thread Thread-9 (handle_client):\n",
      "Traceback (most recent call last):\n",
      "  File \"/opt/conda/lib/python3.10/threading.py\", line 1016, in _bootstrap_inner\n",
      "    self.run()\n",
      "  File \"/opt/conda/lib/python3.10/threading.py\", line 953, in run\n",
      "    self._target(*self._args, **self._kwargs)\n",
      "  File \"/tmp/ipykernel_3130/1572328689.py\", line 13, in handle_client\n",
      "  File \"/tmp/ipykernel_3130/449501296.py\", line 5, in broadcast\n",
      "BrokenPipeError: [Errno 32] Broken pipe\n"
     ]
    },
    {
     "name": "stdout",
     "output_type": "stream",
     "text": [
      " ist im Chat!\n",
      "('172.18.0.15', 56404) ist beigetreten.\n",
      "Philip ist im Chat!\n",
      "('172.18.0.19', 52362) ist beigetreten.\n",
      "cp4802s ist im Chat!\n"
     ]
    }
   ],
   "source": [
    "# Dictionary der angemeldeten Clients. Dictionary mit Schlüssel \"name\" und Wert {'socket':  , 'thread'}\n",
    "clients = {}\n",
    "\n",
    "# Instanziieren eines TCP-Sockets\n",
    "server_socket = socket.socket(socket.AF_INET, socket.SOCK_STREAM)\n",
    "# Binden an den Port 5000\n",
    "server_socket.bind(host)\n",
    "\n",
    "if __name__ == \"__main__\":\n",
    "    # Wir akzeptieren 5 an der Anmeldung wartende Clients (der sechste bekommt eine Fehlermeldung beim connect\n",
    "    server_socket.listen(WAITING_LIMIT)\n",
    "    print(\"Waiting for connection...\")\n",
    "    # Für die weitere Bearbeitung der Anmeldungen starten wir einen neuen Thread\n",
    "    accept_thread = threading.Thread(target=accept_incoming_connections, args=(clients,))\n",
    "    accept_thread.start()\n",
    "    # der \"join\" wartet auf die Beendigung des Threads\n",
    "    accept_thread.join()\n",
    "    # .. und schließt danach den Socket\n",
    "    server_socket.close()"
   ]
  },
  {
   "cell_type": "code",
   "execution_count": null,
   "metadata": {},
   "outputs": [],
   "source": []
  },
  {
   "cell_type": "code",
   "execution_count": null,
   "metadata": {},
   "outputs": [],
   "source": []
  }
 ],
 "metadata": {
  "kernelspec": {
   "display_name": "Python 3 (ipykernel)",
   "language": "python",
   "name": "python3"
  },
  "language_info": {
   "codemirror_mode": {
    "name": "ipython",
    "version": 3
   },
   "file_extension": ".py",
   "mimetype": "text/x-python",
   "name": "python",
   "nbconvert_exporter": "python",
   "pygments_lexer": "ipython3",
   "version": "3.10.8"
  }
 },
 "nbformat": 4,
 "nbformat_minor": 4
}
