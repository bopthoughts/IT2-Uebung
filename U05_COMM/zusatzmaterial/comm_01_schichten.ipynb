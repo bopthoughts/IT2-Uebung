{
 "cells": [
  {
   "cell_type": "markdown",
   "id": "9491e942-2020-4dcb-ba1f-fd94e3df47f4",
   "metadata": {
    "slideshow": {
     "slide_type": "slide"
    },
    "tags": []
   },
   "source": [
    "(Enning, 04.03.2023)\n",
    "## Einführung in die Datenkommunikation mit Python\n",
    "\n",
    "Grundlage der Behandlung der technischen Kommunikation in IT 2 ist das [TCP/IP-Modell](https://de.wikipedia.org/wiki/Internetprotokollfamilie) (Vereinfachtes [ISO-OSI 7-Schichten-Modell](https://de.wikipedia.org/wiki/OSI-Modell))"
   ]
  },
  {
   "cell_type": "markdown",
   "id": "140164e2-aa0d-48c3-90dd-ffd62195a21b",
   "metadata": {
    "slideshow": {
     "slide_type": "fragment"
    },
    "tags": []
   },
   "source": [
    "| Bezeichnung  | OSI | Funktionen/ Protokolle | Python | Hardwarekomponenten |\n",
    "|---|--|--|--|--|\n",
    "| Anwendung | 5-7 | HTTP, TLS, RTP, RTMP, SMTP, MQTT  | Requests, urllib, http.server | Gateway |\n",
    "| Transport | 4 | TCP, UDP | Sockets, socket.server | |\n",
    "| Internet | 3 | IPv4, IPv6, ICMP | Sockets | Router |\n",
    "| Netzzugang |1-2 | Ethernet, CAN, Wifi | (driver) | Netzwerkadapter, Hub, Bridge, Switch |"
   ]
  },
  {
   "cell_type": "markdown",
   "id": "4bcf8c26-8aa8-4352-b319-1c06f5fe6866",
   "metadata": {
    "tags": []
   },
   "source": [
    "### Prinzip des Protokollstacks\n",
    "Im \"Protokollstapel\" wird die Nutzlast wie eine Zwiebel von weiteren Schichten umgeben. Hier am Beispiel einer \"bestätigten\" Client/ Server-Kommunikation [TCP](https://de.wikipedia.org/wiki/Transmission_Control_Protocol)\n",
    "\n",
    "- Auf Schicht 4 wird die Nutzlast mit einem TCP-Header versehen. Dieser beinhaltet u.A. Ports und Sequenznummern\n",
    "- In Schicht 3 wird der IP-Header (IP-Adressen von Quelle und Ziel) ergänzt. Damit wird das Paket im Internet geroutet\n",
    "- Schicht 2 ergänzt u.A. die MAC-Adressen. Damit werden letztlich die Adapter gefunden\n",
    "- Schicht 1 ist die physikalische Ebene (Bitcodierung, Medienzugriff etc.)\n"
   ]
  },
  {
   "cell_type": "markdown",
   "id": "57d5925f-843d-4a3e-8b30-50c06e28fc81",
   "metadata": {},
   "source": [
    "<table style=\"background-color: #f8f9fa; color: #202122; margin: 1em 0; border: 1px solid; border-collapse: collapse; margin: auto\">\n",
    "<tbody><tr>\n",
    "<th>OSI-<br>Schicht</th>\n",
    "<th>TCP/IP-Schicht</th>\n",
    "<th colspan=\"11\">Struktur\n",
    "</th></tr>\n",
    "<tr>\n",
    "<th>4</th>\n",
    "<th>Transport\n",
    "</th>\n",
    "<td colspan=\"7\"></td>\n",
    "<td><a href=\"/wiki/TCP-Header\" class=\"mw-redirect\" title=\"TCP-Header\">TCP-Header</a></td>\n",
    "<td><i>Nutzlast (1460 bytes)</i></td>\n",
    "<td colspan=\"2\">\n",
    "</td></tr>\n",
    "<tr>\n",
    "<th>3</th>\n",
    "<th>Internet\n",
    "</th>\n",
    "<td colspan=\"6\"></td>\n",
    "<td><a href=\"/wiki/IP-Header\" class=\"mw-redirect\" title=\"IP-Header\">IP-Header</a></td>\n",
    "<td colspan=\"2\"><i>Nutzlast (1480 bytes)</i></td>\n",
    "<td colspan=\"2\">\n",
    "</td></tr>\n",
    "<tr>\n",
    "<th>2</th>\n",
    "<th rowspan=\"2\">Netzzugang\n",
    "</th>\n",
    "<td colspan=\"2\"></td>\n",
    "<td><a href=\"/wiki/MAC-Adresse\" title=\"MAC-Adresse\">MAC</a>-Empfänger</td>\n",
    "<td>MAC-Absender</td>\n",
    "<td><a href=\"/wiki/IEEE_802.1Q\" title=\"IEEE 802.1Q\">802.1Q</a>-Tag (opt.)</td>\n",
    "<td><a href=\"/wiki/EtherType\" class=\"mw-redirect\" title=\"EtherType\">EtherType</a></td>\n",
    "<td colspan=\"3\"><i>Nutzlast (1500 bytes)</i></td>\n",
    "<td><a href=\"/wiki/Frame_Check_Sequence\" class=\"mw-redirect\" title=\"Frame Check Sequence\">Frame Check Sequence</a></td>\n",
    "<td>\n",
    "</td></tr>\n",
    "<tr>\n",
    "<th>1\n",
    "</th>\n",
    "<td><a href=\"/wiki/Datenpr%C3%A4ambel\" title=\"Datenpräambel\">Präambel</a></td>\n",
    "<td><a href=\"/wiki/Start_of_Frame\" class=\"mw-redirect\" title=\"Start of Frame\">Start of Frame</a></td>\n",
    "<td colspan=\"8\"><i>Nutzlast (1518/1522 bytes)</i></td>\n",
    "<td><a href=\"/wiki/Interframe_Gap\" class=\"mw-redirect\" title=\"Interframe Gap\">Interframe Gap</a>\n",
    "</td></tr>\n",
    "<tr>\n",
    "<th colspan=\"2\"><a href=\"/wiki/Oktett_(Informatik)\" title=\"Oktett (Informatik)\">Oktette</a>\n",
    "</th>\n",
    "<td>7</td>\n",
    "<td>1</td>\n",
    "<td>6</td>\n",
    "<td>6</td>\n",
    "<td>(4)</td>\n",
    "<td>2</td>\n",
    "<td>20</td>\n",
    "<td>20</td>\n",
    "<td>≤1460</td>\n",
    "<td>4</td>\n",
    "<td>12\n",
    "</td></tr></tbody>\n",
    "    </table>"
   ]
  },
  {
   "cell_type": "code",
   "execution_count": null,
   "id": "a3190987-3ed0-46f1-a11a-37ae174ef924",
   "metadata": {},
   "outputs": [],
   "source": []
  }
 ],
 "metadata": {
  "kernelspec": {
   "display_name": "Python 3 (ipykernel)",
   "language": "python",
   "name": "python3"
  },
  "language_info": {
   "codemirror_mode": {
    "name": "ipython",
    "version": 3
   },
   "file_extension": ".py",
   "mimetype": "text/x-python",
   "name": "python",
   "nbconvert_exporter": "python",
   "pygments_lexer": "ipython3",
   "version": "3.10.8"
  }
 },
 "nbformat": 4,
 "nbformat_minor": 5
}
