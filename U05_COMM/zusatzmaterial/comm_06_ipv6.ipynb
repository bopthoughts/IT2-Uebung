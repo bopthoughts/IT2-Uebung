{
 "cells": [
  {
   "cell_type": "markdown",
   "id": "2193272e-cf46-4470-b576-759c8eb9dd41",
   "metadata": {},
   "source": [
    "(Enning, 04.01.2023)\n",
    "## Internet-Protokol IPv6"
   ]
  },
  {
   "cell_type": "markdown",
   "id": "9db0fc2a-b2de-4b91-85cd-001ba6c35258",
   "metadata": {},
   "source": [
    "- Jeder Teilnehmer (Node) hat mindestens (meistens mehrere) eine IPv6-Adresse\n",
    "- Jede Adresse hat 16 Bytes!"
   ]
  },
  {
   "cell_type": "code",
   "execution_count": 1,
   "id": "10db70d4-5d73-46ad-b005-d2ce35c73cf9",
   "metadata": {},
   "outputs": [
    {
     "data": {
      "text/plain": [
       "' mit 16 Bytes kann man 340,282,366,920,938,463,463,374,607,431,768,211,456 Nodes eindeutige Adressen geben'"
      ]
     },
     "execution_count": 1,
     "metadata": {},
     "output_type": "execute_result"
    }
   ],
   "source": [
    "f' mit 16 Bytes kann man {2**(16*8):,} Nodes eindeutige Adressen geben'"
   ]
  },
  {
   "cell_type": "markdown",
   "id": "1e6f35f8-80c7-4dd4-9086-adf0dfd76870",
   "metadata": {},
   "source": [
    "- IPv6 Adressen werden in der Form `nnnn:nnnn:nnnn:nnnn:nnnn:nnnn:nnnn:nnnn` geschrieben, wobei `nnnn` jeweils die Hexadezimal-Dezimaldarstellung eines Word (2 Bytes) ist"
   ]
  },
  {
   "cell_type": "markdown",
   "id": "da8cb673-a60f-4d0b-a9f3-228b89b2bfc1",
   "metadata": {},
   "source": [
    "IPv6 Adressen meines privaten PC\n",
    "\n",
    "    manfred@WAG-0C-37803997014:~$ ip -6 a\n",
    "    1: lo: <LOOPBACK,UP,LOWER_UP> mtu 65536 state UNKNOWN qlen 1000\n",
    "        inet6 ::1/128 scope host \n",
    "           valid_lft forever preferred_lft forever\n",
    "    2: enp3s0: <BROADCAST,MULTICAST,UP,LOWER_UP> mtu 1500 state UP qlen 1000\n",
    "        inet6 2a02:908:1020:7160:8cad:7bc8:50e5:20e8/128 scope global dynamic noprefixroute \n",
    "           valid_lft 7197sec preferred_lft 3597sec\n",
    "        inet6 2a02:908:1020:7160:d974:ed61:ff05:2a4e/64 scope global temporary dynamic \n",
    "           valid_lft 7198sec preferred_lft 3598sec\n",
    "        inet6 2a02:908:1020:7160:7c49:7248:d2d5:1bf3/64 scope global dynamic mngtmpaddr noprefixroute \n",
    "           valid_lft 7198sec preferred_lft 3598sec\n",
    "        inet6 fe80::8cad:7bc8:50e5:20e8/64 scope link noprefixroute \n",
    "           valid_lft forever preferred_lft forever\n",
    "    7: br-d4c9dd51a90a: <BROADCAST,MULTICAST,UP,LOWER_UP> mtu 1500 state UP \n",
    "        inet6 fe80::42:3bff:fe3c:bba7/64 scope link \n",
    "           valid_lft forever preferred_lft forever\n",
    "    9: vpn0: <NO-CARRIER,POINTOPOINT,MULTICAST,NOARP,UP> mtu 1300 state DOWN qlen 500\n",
    "        inet6 fe80::6542:ca7b:61d8:6cad/64 scope link stable-privacy \n",
    "           valid_lft forever preferred_lft forever\n",
    "    13: vethe9ed70e@if12: <BROADCAST,MULTICAST,UP,LOWER_UP> mtu 1500 state UP \n",
    "        inet6 fe80::30d1:7ff:fe7a:a31b/64 scope link \n",
    "           valid_lft forever preferred_lft forever\n"
   ]
  },
  {
   "cell_type": "markdown",
   "id": "2d971e5f-20f0-4698-8356-1dd9bb97cc1e",
   "metadata": {},
   "source": [
    "### Domain Name System (DNS)\n",
    "\n",
    "- Auch IPv6 Adressen können mit DNS nachgeschlagen werden (AAAA)\n"
   ]
  },
  {
   "cell_type": "code",
   "execution_count": 3,
   "id": "66b1802b-4d4c-4de8-a896-f16e64c0a3e6",
   "metadata": {},
   "outputs": [],
   "source": [
    "# Wir importieren einen DNS-Resolver\n",
    "import dns.resolver"
   ]
  },
  {
   "cell_type": "code",
   "execution_count": 4,
   "id": "8b370742-66a0-45aa-95ba-1ec5c1fe9ca8",
   "metadata": {},
   "outputs": [
    {
     "data": {
      "text/plain": [
       "[<DNS IN AAAA rdata: 2a00:1450:4001:831::200e>]"
      ]
     },
     "execution_count": 4,
     "metadata": {},
     "output_type": "execute_result"
    }
   ],
   "source": [
    "# und nutzen diesen, um die IPv4 (A-Record) Adresse zu erfragen\n",
    "answer = dns.resolver.resolve('google.com', 'AAAA')\n",
    "list(answer)"
   ]
  },
  {
   "cell_type": "markdown",
   "id": "0e19b9a7-433d-49d3-9d90-ddd4c81d0075",
   "metadata": {},
   "source": [
    "- Die IPv6-Adresse zur Domain google.com ist `2a00:1450:4001:82f::200e`\n",
    "- Führende Nullen können weggelassen werden; `::` entspricht  `:0:0:0:` (Auffüllen)\n",
    "- Die Adresse gehört zu einem Adressraum, `2a00:1450:4001` der bei der [IANA](https://en.wikipedia.org/wiki/Internet_Assigned_Numbers_Authority) registriert ist\n",
    "- Mit IPv6 kann \"jedem Sandkorn\" auf der Welt eine eigene IP-Adresse gegeben werden\n",
    "- IPv6 ist die Grundlage des \"Internet der Dinge\", z.B. [`6LoWPAN`](https://de.wikipedia.org/wiki/6LoWPAN)\n",
    "- Tricksereien mit Subnetzen sind nicht mehr notwendig\n"
   ]
  },
  {
   "cell_type": "markdown",
   "id": "32980502-4537-4cdb-bbf8-9a9932200deb",
   "metadata": {},
   "source": [
    "#### IPv6 Routing Tabelle\n",
    "\n",
    "    manfred@WAG-0C-37803997012:~ $ ip -6 r\n",
    "    ::1 dev lo proto kernel metric 256 pref medium\n",
    "    fd01::/64 dev br-62b4507a941a proto kernel metric 256 pref medium\n",
    "    fd78:3214:6290:d772::/64 dev eth1 proto kernel metric 100 pref medium\n",
    "    fe80::/64 dev br-62b4507a941a proto kernel metric 256 pref medium\n",
    "    fe80::/64 dev veth6a099cb proto kernel metric 256 pref medium\n",
    "    fe80::/64 dev veth0bd49ee proto kernel metric 256 pref medium\n",
    "    fe80::/64 dev veth437bdec proto kernel metric 256 pref medium\n",
    "    fe80::/64 dev veth9e13ca7 proto kernel metric 256 pref medium\n",
    "    fe80::/64 dev eth1 proto kernel metric 1024 pref medium\n",
    "    manfred@WAG-0C-37803997012:~ $ \n",
    "\n",
    "    fd01::/64 bedeutet: \n",
    "        Alle Adressen, die mit fd01:0000:0000:0000 beginnen (64 bits) gehen auf das Interface br-...\n"
   ]
  },
  {
   "cell_type": "markdown",
   "id": "5a7be56a-47ba-4d2f-8d52-ec9bea0cb0ae",
   "metadata": {},
   "source": [
    "### DHCPv6\n",
    "- Bei IPv6 gibt es keine Adress-\"Not\" mehr\n",
    "- Trotzdem gibt es den Wunsch nach privaten Netzen, in denen Außenschnittstellen kontrolliert werden\n",
    "- Deshalb gibt es bei IPv6 Adressen mit globalen Scope aber auch Adressen mit begrenzter Routingerlaubnis\n",
    "- Solche Adressen werden entweder durch einen DHCPv6 Adressen ausgegegeben oder auf dem Client selbst gebaut\n",
    "- DCHPv6 funktioniert analog zu DCHP"
   ]
  },
  {
   "cell_type": "markdown",
   "id": "a2d73960-2c7b-4deb-8060-e3991dd3afba",
   "metadata": {},
   "source": [
    "### Router Advertisement (RA), [Neighbor Discovery Protocol](https://de.wikipedia.org/wiki/Neighbor_Discovery_Protocol)\n",
    "\n",
    "- eine kontrollierte Vergabe von IPv6 Adressen ist nicht nötig\n",
    "- Es reicht, dem Client den \"Prefix\" zu nennen, in dem er Adressen erzeugen soll (Router Advertisement)\n",
    "- Durch Anhängen einer zufälligen Zahlenfolge (anonym) oder einer Zahlenfolge, die aus der MAC-Adresse generiert wird (nachverfolgbar!) entsteht eine eindeutige IPv6 Adresse"
   ]
  }
 ],
 "metadata": {
  "kernelspec": {
   "display_name": "Python 3 (ipykernel)",
   "language": "python",
   "name": "python3"
  },
  "language_info": {
   "codemirror_mode": {
    "name": "ipython",
    "version": 3
   },
   "file_extension": ".py",
   "mimetype": "text/x-python",
   "name": "python",
   "nbconvert_exporter": "python",
   "pygments_lexer": "ipython3",
   "version": "3.10.8"
  }
 },
 "nbformat": 4,
 "nbformat_minor": 5
}
