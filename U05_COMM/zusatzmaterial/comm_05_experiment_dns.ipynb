{
 "cells": [
  {
   "cell_type": "markdown",
   "id": "2193272e-cf46-4470-b576-759c8eb9dd41",
   "metadata": {},
   "source": [
    "(Enning, 04.01.2023)\n",
    "## Experiment: Abfrage eines DNS-Servers"
   ]
  },
  {
   "cell_type": "code",
   "execution_count": 2,
   "id": "66b1802b-4d4c-4de8-a896-f16e64c0a3e6",
   "metadata": {},
   "outputs": [],
   "source": [
    "# Wir importieren einen DNS-Resolver\n",
    "import dns.resolver"
   ]
  },
  {
   "cell_type": "code",
   "execution_count": 4,
   "id": "8b370742-66a0-45aa-95ba-1ec5c1fe9ca8",
   "metadata": {},
   "outputs": [
    {
     "data": {
      "text/plain": [
       "[<DNS IN A rdata: 149.201.122.100>]"
      ]
     },
     "execution_count": 4,
     "metadata": {},
     "output_type": "execute_result"
    }
   ],
   "source": [
    "# und nutzen diesen, um die IPv4 (A-Record) Adresse zu erfragen\n",
    "answer = dns.resolver.resolve('fh-aachen.de', 'A')\n",
    "list(answer)"
   ]
  },
  {
   "cell_type": "markdown",
   "id": "0e19b9a7-433d-49d3-9d90-ddd4c81d0075",
   "metadata": {},
   "source": [
    "- Die (aktuelle) IP-Adresse zur Domain fh-aachen.de ist 178.254.29.51\n",
    "- Die Adresse gehört zu einem Adressraum, den sich der Provider 1blu bei der [IANA](https://en.wikipedia.org/wiki/Internet_Assigned_Numbers_Authority) hat reservieren lassen.\n",
    "- Aus naheliegenden Gründen ist es aber nicht (mehr) möglich, jedem User (aber auch jedem Gerät wie Lichtschalter, Chromecast, Handy ...) eine eigene IPv4 Adresse zu geben.\n",
    "- Man hat durch die Einführung einer hierarchischen Struktur erfolgreich die Anzahl der möglichen Nodes vervielfacht. (Dieser Trick war so erfolgreich, dass er lange Zeit die Einführung der IPv6 Adressen verhindert hat)"
   ]
  },
  {
   "cell_type": "code",
   "execution_count": 7,
   "id": "ff829d08-1a8b-4534-a93d-5d7eb33c99cd",
   "metadata": {},
   "outputs": [
    {
     "data": {
      "text/plain": [
       "[<DNS IN A rdata: 185.15.59.224>]"
      ]
     },
     "execution_count": 7,
     "metadata": {},
     "output_type": "execute_result"
    }
   ],
   "source": [
    "answer = dns.resolver.resolve('wikipedia.org', 'A')\n",
    "list(answer)"
   ]
  },
  {
   "cell_type": "code",
   "execution_count": 8,
   "id": "539ce325-1d68-4ece-9a5b-75e576ccb9f0",
   "metadata": {},
   "outputs": [
    {
     "data": {
      "text/plain": [
       "[<DNS IN AAAA rdata: 2a02:ec80:300:ed1a::1>]"
      ]
     },
     "execution_count": 8,
     "metadata": {},
     "output_type": "execute_result"
    }
   ],
   "source": [
    "answer = dns.resolver.resolve('wikipedia.org', 'AAAA')\n",
    "list(answer)"
   ]
  },
  {
   "cell_type": "code",
   "execution_count": null,
   "id": "8daa9a99-c0fd-4355-9c0f-824d289d845e",
   "metadata": {},
   "outputs": [],
   "source": []
  }
 ],
 "metadata": {
  "kernelspec": {
   "display_name": "Python 3 (ipykernel)",
   "language": "python",
   "name": "python3"
  },
  "language_info": {
   "codemirror_mode": {
    "name": "ipython",
    "version": 3
   },
   "file_extension": ".py",
   "mimetype": "text/x-python",
   "name": "python",
   "nbconvert_exporter": "python",
   "pygments_lexer": "ipython3",
   "version": "3.10.8"
  }
 },
 "nbformat": 4,
 "nbformat_minor": 5
}
