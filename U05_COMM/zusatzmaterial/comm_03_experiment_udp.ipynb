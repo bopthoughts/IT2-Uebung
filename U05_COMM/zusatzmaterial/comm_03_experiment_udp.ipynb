{
 "cells": [
  {
   "cell_type": "markdown",
   "id": "09541b14-1e06-4c07-b3a2-ef802780eac2",
   "metadata": {
    "slideshow": {
     "slide_type": "slide"
    },
    "tags": []
   },
   "source": [
    "(Enning, 04.03.2023)\n",
    "## Experiment: Transportschicht am Beispiel udp"
   ]
  },
  {
   "cell_type": "markdown",
   "id": "6ff3c763-6d1a-4246-93d4-310e2c2ff4b6",
   "metadata": {
    "slideshow": {
     "slide_type": "fragment"
    },
    "tags": []
   },
   "source": [
    "| Bezeichnung  | OSI | Funktionen/ Protokolle | Python | Hardwarekomponenten |\n",
    "|---|--|--|--|--|\n",
    "| Anwendung | 5-7 | HTTP, TLS, RTP, RTMP, SMTP, MQTT  | Requests, urllib, http.server | Gateway |\n",
    "| Transport | 4 | TCP, UDP | Sockets, socket.server | |\n",
    "| Internet | 3 | IPv4, IPv6, ICMP | Sockets | Router |\n",
    "| Netzzugang |1-2 | Ethernet, CAN, Wifi | (driver) | Netzwerkadapter, Hub, Bridge, Switch |"
   ]
  },
  {
   "cell_type": "markdown",
   "id": "b51f69d2-6fc1-4b61-b31f-b68dcba22804",
   "metadata": {
    "tags": []
   },
   "source": [
    "- Das [Transfer Control Protocol TCP](https://de.wikipedia.org/wiki/Transmission_Control_Protocol) ist die Grundlage einer Frage/Antwort-Kommunikation (bestätigte Transfers)\n",
    "- Mit dem [Unified Datagram Protocol UDP](https://de.wikipedia.org/wiki/User_Datagram_Protocol) kann ein nicht bestätigter Datenstrom realisiert werden"
   ]
  },
  {
   "cell_type": "code",
   "execution_count": 1,
   "id": "ef5db94d-1faf-4191-81dc-905426a23282",
   "metadata": {},
   "outputs": [],
   "source": [
    "### Zeitansage vom Server der FU-Berlin"
   ]
  },
  {
   "cell_type": "code",
   "execution_count": 2,
   "id": "2a9cdb42-af8c-4de2-837e-c3861410d0bf",
   "metadata": {},
   "outputs": [],
   "source": [
    "# Import des low level Packages\n",
    "import socket"
   ]
  },
  {
   "cell_type": "code",
   "execution_count": 3,
   "id": "af020cb5-00f9-4f7e-83c0-398545d40417",
   "metadata": {},
   "outputs": [],
   "source": [
    "# Instanziieren eines \"Sockets\" mit der Protokollfamilie INET und dem Typ DGRAM (=UDP) \n",
    "client_socket = socket.socket(family=socket.AF_INET, type=socket.SOCK_DGRAM)\n",
    "# Eine Serveradresse besteht aus dem Domain-Namen und dem Port\n",
    "# Von time.fu-berlin.de wird auf Anfrage das Datum und die Uhrzeit gesendet\n",
    "server_addr = ('time.fu-berlin.de', 13)"
   ]
  },
  {
   "cell_type": "code",
   "execution_count": 4,
   "id": "56eab7cb-60f7-481c-8d86-a9e0ba9424d0",
   "metadata": {
    "tags": []
   },
   "outputs": [
    {
     "data": {
      "text/plain": [
       "0"
      ]
     },
     "execution_count": 4,
     "metadata": {},
     "output_type": "execute_result"
    }
   ],
   "source": [
    "# Mit einem beliebigen send wird die Rückantwort getriggert\n",
    "client_socket.sendto(''.encode(), server_addr)"
   ]
  },
  {
   "cell_type": "code",
   "execution_count": 5,
   "id": "96fe671b-17c5-41f5-9b39-432f832cc09a",
   "metadata": {},
   "outputs": [
    {
     "data": {
      "text/plain": [
       "'16 JAN 2024 23:28:23 CET\\n'"
      ]
     },
     "execution_count": 5,
     "metadata": {},
     "output_type": "execute_result"
    }
   ],
   "source": [
    "# Hier wird die Antwort empfangen\n",
    "data, addr = client_socket.recvfrom(1000)\n",
    "# Unterscheid zu TCP: Dem Server ist es egal, ob wir seine Nachricht empfangen oder nicht\n",
    "# Es werden nur \"rohe\" Daten gesendet. .decode liefert einen String\n",
    "data.decode()"
   ]
  },
  {
   "cell_type": "code",
   "execution_count": 6,
   "id": "b3409251-067e-4d93-8057-237be5f51c22",
   "metadata": {},
   "outputs": [
    {
     "data": {
      "text/plain": [
       "'16 JAN 2024 23:28:27 CET\\n'"
      ]
     },
     "metadata": {},
     "output_type": "display_data"
    },
    {
     "data": {
      "text/plain": [
       "'16 JAN 2024 23:28:32 CET\\n'"
      ]
     },
     "metadata": {},
     "output_type": "display_data"
    },
    {
     "data": {
      "text/plain": [
       "'16 JAN 2024 23:28:37 CET\\n'"
      ]
     },
     "metadata": {},
     "output_type": "display_data"
    },
    {
     "data": {
      "text/plain": [
       "'16 JAN 2024 23:28:42 CET\\n'"
      ]
     },
     "metadata": {},
     "output_type": "display_data"
    },
    {
     "ename": "KeyboardInterrupt",
     "evalue": "",
     "output_type": "error",
     "traceback": [
      "\u001b[0;31m---------------------------------------------------------------------------\u001b[0m",
      "\u001b[0;31mKeyboardInterrupt\u001b[0m                         Traceback (most recent call last)",
      "Cell \u001b[0;32mIn[6], line 7\u001b[0m\n\u001b[1;32m      5\u001b[0m data, addr \u001b[38;5;241m=\u001b[39m client_socket\u001b[38;5;241m.\u001b[39mrecvfrom(\u001b[38;5;241m1000\u001b[39m)\n\u001b[1;32m      6\u001b[0m display(data\u001b[38;5;241m.\u001b[39mdecode())\n\u001b[0;32m----> 7\u001b[0m \u001b[43mtime\u001b[49m\u001b[38;5;241;43m.\u001b[39;49m\u001b[43msleep\u001b[49m\u001b[43m(\u001b[49m\u001b[38;5;241;43m5\u001b[39;49m\u001b[43m)\u001b[49m\n",
      "\u001b[0;31mKeyboardInterrupt\u001b[0m: "
     ]
    }
   ],
   "source": [
    "# Das kann man gut in einer Schleife laufen lassen\n",
    "import time\n",
    "for a in range(5):\n",
    "    client_socket.sendto((\"Dies ist ein Test\").encode(), server_addr) \n",
    "    data, addr = client_socket.recvfrom(1000)\n",
    "    display(data.decode())\n",
    "    time.sleep(5)"
   ]
  },
  {
   "cell_type": "markdown",
   "id": "ceff7e8f-ae0b-49a6-b343-9d640c8f6095",
   "metadata": {},
   "source": [
    "- Bei TCP würde der Server auf Bestätigung warten\n",
    "- Bei Übertragungsfehler würde bei TCP das jeweilige Datenpaket neu gesendet\n",
    "- UDP arbeitet ohne Bestätigung\n",
    "- Geeignet für Audio/ Videostreaming"
   ]
  }
 ],
 "metadata": {
  "kernelspec": {
   "display_name": "Python 3 (ipykernel)",
   "language": "python",
   "name": "python3"
  },
  "language_info": {
   "codemirror_mode": {
    "name": "ipython",
    "version": 3
   },
   "file_extension": ".py",
   "mimetype": "text/x-python",
   "name": "python",
   "nbconvert_exporter": "python",
   "pygments_lexer": "ipython3",
   "version": "3.10.8"
  }
 },
 "nbformat": 4,
 "nbformat_minor": 5
}
