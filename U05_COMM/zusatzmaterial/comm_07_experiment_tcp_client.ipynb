{
 "cells": [
  {
   "cell_type": "markdown",
   "id": "09541b14-1e06-4c07-b3a2-ef802780eac2",
   "metadata": {
    "slideshow": {
     "slide_type": "slide"
    },
    "tags": []
   },
   "source": [
    "(Enning, 04.03.2023)\n",
    "## Experiment: Transportschicht am Beispiel tcp. Client-Funktionalität"
   ]
  },
  {
   "cell_type": "markdown",
   "id": "6ff3c763-6d1a-4246-93d4-310e2c2ff4b6",
   "metadata": {
    "slideshow": {
     "slide_type": "fragment"
    },
    "tags": []
   },
   "source": [
    "| Bezeichnung  | OSI | Funktionen/ Protokolle | Python | Hardwarekomponenten |\n",
    "|---|--|--|--|--|\n",
    "| Anwendung | 5-7 | HTTP, TLS, RTP, RTMP, SMTP, MQTT  | Requests, urllib, http.server | Gateway |\n",
    "| Transport | 4 | TCP, UDP | Sockets, socket.server | |\n",
    "| Internet | 3 | IPv4, IPv6, ICMP | Sockets | Router |\n",
    "| Netzzugang |1-2 | Ethernet, CAN, Wifi | (driver) | Netzwerkadapter, Hub, Bridge, Switch |"
   ]
  },
  {
   "cell_type": "code",
   "execution_count": 1,
   "id": "2a9cdb42-af8c-4de2-837e-c3861410d0bf",
   "metadata": {},
   "outputs": [],
   "source": [
    "# Import des low level Packages\n",
    "import socket"
   ]
  },
  {
   "cell_type": "code",
   "execution_count": 2,
   "id": "af020cb5-00f9-4f7e-83c0-398545d40417",
   "metadata": {},
   "outputs": [],
   "source": [
    "# Instanziieren eines \"Sockets\" mit der Protokollfamilie INET und dem Typ STREAM (=TCP) \n",
    "client_socket = socket.socket(family=socket.AF_INET, type=socket.SOCK_STREAM)\n",
    "# Eine Serveradresse besteht aus dem Domain-Namen und dem Port\n",
    "# Wir verbinden lokal mit einem Server, der auf Port 5000 hört\n",
    "server_addr = ('localhost', 5000)\n",
    "BUFSIZE = 1000"
   ]
  },
  {
   "cell_type": "code",
   "execution_count": 3,
   "id": "7dd18a6e-2a20-4a02-95cc-3fc2144b4596",
   "metadata": {},
   "outputs": [],
   "source": [
    "# Verbindungsanfrage an den Server\n",
    "client_socket.connect(server_addr)"
   ]
  },
  {
   "cell_type": "code",
   "execution_count": 4,
   "id": "d8e4897a-133c-4c79-8b8a-d42a5ca6f26b",
   "metadata": {},
   "outputs": [
    {
     "data": {
      "text/plain": [
       "b'Hallo?'"
      ]
     },
     "execution_count": 4,
     "metadata": {},
     "output_type": "execute_result"
    }
   ],
   "source": [
    "# Antwort erwarten\n",
    "client_socket.recv(BUFSIZE)"
   ]
  },
  {
   "cell_type": "code",
   "execution_count": 5,
   "id": "8bf2fe12-cc25-4a74-b109-1cdcd1ba6f58",
   "metadata": {},
   "outputs": [
    {
     "data": {
      "text/plain": [
       "'Hallo?'"
      ]
     },
     "execution_count": 5,
     "metadata": {},
     "output_type": "execute_result"
    }
   ],
   "source": [
    "_.decode()"
   ]
  },
  {
   "cell_type": "code",
   "execution_count": null,
   "id": "e49a9010-d96c-44d6-b971-c10bbe576506",
   "metadata": {},
   "outputs": [
    {
     "name": "stdin",
     "output_type": "stream",
     "text": [
      "> Wie gehts\n"
     ]
    },
    {
     "name": "stdout",
     "output_type": "stream",
     "text": [
      "stheg eiW\n"
     ]
    }
   ],
   "source": [
    "while True:\n",
    "    ins = input('>')\n",
    "    client_socket.send(ins.encode())\n",
    "    print(client_socket.recv(BUFSIZE).decode())"
   ]
  },
  {
   "cell_type": "code",
   "execution_count": null,
   "id": "5968b386-5beb-4ff0-9a02-61c2ae817e56",
   "metadata": {},
   "outputs": [],
   "source": []
  },
  {
   "cell_type": "code",
   "execution_count": null,
   "id": "5350acb5-cd6e-403e-aa60-d99eee847f76",
   "metadata": {},
   "outputs": [],
   "source": []
  }
 ],
 "metadata": {
  "kernelspec": {
   "display_name": "Python 3 (ipykernel)",
   "language": "python",
   "name": "python3"
  },
  "language_info": {
   "codemirror_mode": {
    "name": "ipython",
    "version": 3
   },
   "file_extension": ".py",
   "mimetype": "text/x-python",
   "name": "python",
   "nbconvert_exporter": "python",
   "pygments_lexer": "ipython3",
   "version": "3.10.8"
  }
 },
 "nbformat": 4,
 "nbformat_minor": 5
}
