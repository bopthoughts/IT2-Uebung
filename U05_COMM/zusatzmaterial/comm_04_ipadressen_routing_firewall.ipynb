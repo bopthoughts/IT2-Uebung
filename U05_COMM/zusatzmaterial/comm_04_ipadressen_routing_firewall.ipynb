{
 "cells": [
  {
   "cell_type": "markdown",
   "id": "2193272e-cf46-4470-b576-759c8eb9dd41",
   "metadata": {},
   "source": [
    "(Enning, 04.01.2023)\n",
    "## Wie orientiert man sich im Netz?\n",
    "\n",
    "### Einführung in IP-Addressen, Routing und Firewalls"
   ]
  },
  {
   "cell_type": "markdown",
   "id": "9db0fc2a-b2de-4b91-85cd-001ba6c35258",
   "metadata": {},
   "source": [
    "- Jeder Teilnehmer (Node) hat mindestens eine IP-Adresse\n",
    "- Früher reichte der Addressraum von 4 Bytes vollkommen aus"
   ]
  },
  {
   "cell_type": "code",
   "execution_count": 1,
   "id": "10db70d4-5d73-46ad-b005-d2ce35c73cf9",
   "metadata": {},
   "outputs": [
    {
     "data": {
      "text/plain": [
       "' mit 4 Bytes kann man 4,294,967,296 Nodes eindeutige Adressen geben'"
      ]
     },
     "execution_count": 1,
     "metadata": {},
     "output_type": "execute_result"
    }
   ],
   "source": [
    "f' mit 4 Bytes kann man {2**(4*8):,} Nodes eindeutige Adressen geben'"
   ]
  },
  {
   "cell_type": "markdown",
   "id": "1e6f35f8-80c7-4dd4-9086-adf0dfd76870",
   "metadata": {},
   "source": [
    "- IPv4 Adressen werden in der Form `nn.nn.nn.nn` geschrieben, wobei `nn` jeweils die Dezimaldarstellung eines Bytes ist"
   ]
  },
  {
   "cell_type": "markdown",
   "id": "b903b49b-eedf-4cc9-b555-38c742748415",
   "metadata": {},
   "source": [
    "### IPv4 Subnetze\n",
    "\n",
    "- Subnetze:\n",
    "  - Klasse A: Das erste Byte ist von [IANA](https://en.wikipedia.org/wiki/Internet_Assigned_Numbers_Authority) zugewiesen, die restlichen werden vom Administrator den Nodes zugewiesen\n",
    "  - Klasse B: Die ersten zwei Bytes sind von IANA zugewiesen\n",
    "  - Klasse C: Die ersten drei Bytes sind von IANA zugewiesen\n",
    "- Alle Adressen können im Internet gerroutet werden. Ausnahmen Private Subnetze. Diese sind nicht eindeutig und werden nicht geroutet"
   ]
  },
  {
   "cell_type": "markdown",
   "id": "0ca42ee0-2df0-47fe-95b0-93d9e063a1af",
   "metadata": {},
   "source": [
    "### Private Subnetze\n",
    "- In einem privaten Home- oder Wohnheimnetz haben Sie vermutlich eine IP-Adresse, die z.B. 192.168.100.20 lautet\n",
    "- Adressen, die mit 192.168 beginnen kann es tausende Male weltweit geben\n",
    "- In einem solchen Netz kann man 256 (-2 reservierte Adressen) Netzwerk-Nodes adressieren\n",
    "- Diese können untereinander problemlos kommunizieren\n",
    "\n",
    "Die von privaten Netzen verwendbaren Adressbereiche sind:\n",
    "\n",
    "- Klasse A: 10.0.0.0 to 10.255.255.255.\n",
    "- Klasse B: 172.16.0.0 to 172.31.255.255.\n",
    "- Klasse C: 192.168.0.0 to 192.168.255.255."
   ]
  },
  {
   "cell_type": "markdown",
   "id": "00b2edd3-6b26-465b-96e8-7a4c474b9b6d",
   "metadata": {},
   "source": [
    "### Domain Name System (DNS)\n",
    "\n",
    "- das [Domain Name System](https://de.wikipedia.org/wiki/Domain_Name_System) (DNS) ist das verteilte \"Telefonbuch\" des Internet\n",
    "- Host (Domain) Namen werden zu IP Adressen aufgelöst\n",
    "- üblicherweise nutzt man zum Test Kommandozeilenprogramme wie `dig' \n",
    "- Es gibt aber auch ein Python-Package [dnspython](https://www.dnspython.org/)\n",
    "\n",
    "### Address Resolution Protocol (ARP)\n",
    "\n",
    "- DNS ist auf Schicht 3 und arbeitetet mit IP Adressen\n",
    "- Für den Zugriff auf einen Adapter braucht man dessen [Media Access Control](https://de.wikipedia.org/wiki/MAC-Adresse) (MAC) Adresse \n",
    "- Diese Auflösung get mit dem [Address Resolution Protokoll](https://de.wikipedia.org/wiki/Address_Resolution_Protocol)\n",
    "\n",
    ">__Hinweis__: DNS und ARP arbeiten in beide Richtungen, können also z.B. zu einer IP-Adresse des Hostnamen finden\n"
   ]
  },
  {
   "cell_type": "markdown",
   "id": "3d2256cf-3dc0-4ef3-b870-d7f8696e8e14",
   "metadata": {},
   "source": [
    "### Routing\n",
    "- In jedem Knoten wird hinterlegt, welchen Weg ein ausgehendes Datenpaket nehmen muss. Die Regeln dazu stehen in der Routingtabelle\n",
    "- In einem \"Router\" wird nach Richtungen auf Adapter verteilt\n",
    "- In einem \"normalen\" Node muss der Weg zum Router als \"via\" angegeben werden\n",
    "- Auf Linux-Systemen lässt sie sich mit `ip route` abfragen.\n",
    ">__Hinweis__: Auch unsere Docker-Container sind Linux-Systeme. Allerdings sind systemnahe Tools hier nicht installiert, damit Sie keinen Blödsinn machen"
   ]
  },
  {
   "cell_type": "markdown",
   "id": "51f5a4d9-6686-4862-9f3c-520335761604",
   "metadata": {},
   "source": [
    "Dies ist die Routing-Tabelle meines PC's, wenn er per VPN mit der FH verbunden ist\n",
    "\n",
    "    manfred@WAG-0C-37803997014:~$ ip route\n",
    "    default via 192.168.178.1 dev enp3s0 proto dhcp metric 100 \n",
    "    10.1.0.0/16 dev vpn0 proto static scope link metric 50 \n",
    "    10.4.0.0/16 dev vpn0 proto static scope link metric 50 \n",
    "    10.9.0.0/24 dev vpn0 proto static scope link metric 50 \n",
    "    10.9.1.0/24 dev vpn0 proto static scope link metric 50 \n",
    "    10.9.2.0/23 dev vpn0 proto static scope link metric 50 \n",
    "    10.9.4.0/24 dev vpn0 proto static scope link metric 50 \n",
    "    10.13.10.0/24 dev vpn0 proto static scope link metric 50 \n",
    "    10.13.15.0/24 dev vpn0 proto static scope link metric 50 \n",
    "    129.233.213.0/24 dev vpn0 proto static scope link metric 50 \n",
    "    134.61.0.0/16 dev vpn0 proto static scope link metric 50 \n",
    "    134.130.0.0/16 dev vpn0 proto static scope link metric 50 \n",
    "    134.130.205.0/24 dev vpn0 proto static scope link metric 50 \n",
    "    137.226.0.0/16 dev vpn0 proto static scope link metric 50 \n",
    "    149.201.0.0/16 dev vpn0 proto static scope link metric 50 \n",
    "    149.201.27.0/24 dev vpn0 proto kernel scope link src 149.201.27.147 metric 50 \n",
    "    149.201.252.123 via 192.168.178.1 dev enp3s0 proto static metric 50 \n",
    "    153.96.180.0/24 dev vpn0 proto static scope link metric 50 \n",
    "    153.96.200.0/23 dev vpn0 proto static scope link metric 50 \n",
    "    169.254.0.0/16 dev docker0 scope link metric 1000 linkdown \n",
    "    172.17.0.0/16 dev docker0 proto kernel scope link src 172.17.0.1 linkdown \n",
    "    172.18.0.0/16 dev br-fd498b3baa69 proto kernel scope link src 172.18.0.1 \n",
    "    172.20.0.0/16 dev br-d4c9dd51a90a proto kernel scope link src 172.20.0.1 linkdown \n",
    "    192.35.229.0/24 dev vpn0 proto static scope link metric 50 \n",
    "    192.44.11.0/24 dev vpn0 proto static scope link metric 50 \n",
    "    192.102.148.0/24 dev vpn0 proto static scope link metric 50 \n",
    "    192.168.178.0/24 dev enp3s0 proto kernel scope link src 192.168.178.23 metric 100 \n",
    "    192.168.178.1 dev enp3s0 proto static scope link metric 50 \n",
    "\n",
    "- Alles, was nicht woanders hin geschickt wird, geht auf die \"Default-Route\". \n",
    "- Viele Adressbereiche werden zum VPN-Adapter`vpn0` geschickt werden\n",
    "- 10.1.0.0/16 ist ein Class A Subnetz. Also alle Adressen, die mit 10. beginnen gehen ins VPN\n",
    "- 134.130.205.0/24 ist ein Class C Subnetz. Alle Adressen, die mit 134.130.205 beginnen gehen ins VPN"
   ]
  },
  {
   "cell_type": "markdown",
   "id": "98002e0d-a1dc-439f-a936-f0c04d713bdc",
   "metadata": {},
   "source": [
    "### Masquerading, Network Address Translation (NAT)\n",
    "- Wenn man aus einem privaten Subnetz über einen \"Router\" ins Internet möchte, muss man \"tricksen\":\n",
    "- Nach \"innen\" hat der Router eine Adresse im jeweiligen Subnetz\n",
    "- Nach außen hat er (meistens noch) eine eigene, eindeutige IPv4 Adresse\n"
   ]
  },
  {
   "cell_type": "markdown",
   "id": "eb9f6616-b887-4253-8314-dd65c8340afb",
   "metadata": {},
   "source": [
    "### Firewall\n",
    "\n",
    "- Um Netze gegen Angriffe von außen zu schützen sind meist nur wenige Transfers von außen nach innen gestattet\n",
    "- Die Firewall ist der \"Wächter\", der dafür sorgt, dass nur zulässige Pakete durchgehen\n",
    "- Die Firewall kümmert sich auch um das Masquerading\n",
    "- Ein Paket das z.B. von 192.168.100.20 kommt und über einen Router ins Internet geroutet wird, muss nach außen so erscheinen, als käme es von Router (Nur er hat eine brauchbare Absenderadresse, nämlich seine externe IP)\n",
    "- Es muss also das Source-Feld im IP-Paket \"gefaked\" werden (Network Address Translation, NAT, Masquerading)\n",
    "- Antworten aus dem Internet müssen wieder an den richtigen internen Teilnehmer geroutet werden\n"
   ]
  },
  {
   "cell_type": "markdown",
   "id": "c3da24a9-8621-4972-a078-0b24a4448cdf",
   "metadata": {},
   "source": [
    "### Dynamic Host Configuration Protocol (DHCP)\n",
    "\n",
    "- In der Vergangenheit konnte ein Netzwerkadministrator die IP-Adressen verwalten und die Routing- und DNS Einstellungen der PCs vornehmen\n",
    "- Heute: Es gibt zuwenig IPv4 Adressen, die werden nur noch \"verliehen\" (lease)\n",
    "- Netzwerktopologien sind komplex und volatil\n",
    "- Lösung Automatische Konfiguration der Clients"
   ]
  },
  {
   "cell_type": "markdown",
   "id": "e2e289f3-ddb0-484a-818b-46f204aadfaf",
   "metadata": {},
   "source": [
    "Ein DCHP-Server\n",
    "- gibt IP Adressen aus einem vorgegebenen Adressraum aus\n",
    "- gibt dem Client wichtige Informationen zu den Ressourcen des Netzwerks\n",
    "    - wo ist der nächstgelegene DNS-Server zu finden?\n",
    "    - welche Adresse hat der Router\n",
    "    - unter welcher Adresse kann an alle gesendet werden (Broadcast)\n",
    "    - unter welcher Adresse gibt es einen Zeitservice\n",
    "    - (Wo ist der Anmeldeserver?)"
   ]
  }
 ],
 "metadata": {
  "kernelspec": {
   "display_name": "Python 3 (ipykernel)",
   "language": "python",
   "name": "python3"
  },
  "language_info": {
   "codemirror_mode": {
    "name": "ipython",
    "version": 3
   },
   "file_extension": ".py",
   "mimetype": "text/x-python",
   "name": "python",
   "nbconvert_exporter": "python",
   "pygments_lexer": "ipython3",
   "version": "3.10.8"
  }
 },
 "nbformat": 4,
 "nbformat_minor": 5
}
