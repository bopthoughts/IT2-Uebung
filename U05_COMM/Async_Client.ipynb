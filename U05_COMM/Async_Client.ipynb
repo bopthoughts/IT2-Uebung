{
 "cells": [
  {
   "cell_type": "markdown",
   "metadata": {},
   "source": [
    "(Enning, 05.01.2023)\n",
    "\n",
    "## Verfeinerung\n",
    "\n",
    "Damit die Sache funktioniert, müssen wir Senden und Empfangen voneinander trennen. Wir müssen eine Art Multitasking etablieren. Wir haben schon Multitasking, wenn wir zwei Notebooks aufmachen. Wir können aber auch innerhalb eines Python-Programms  / Notebooks mehrere parallel laufende Prozesse erzeugen. Dies ist Multithreading.\n",
    "\n",
    "\n"
   ]
  },
  {
   "cell_type": "markdown",
   "metadata": {},
   "source": [
    "### Chat-Client mit threading\n",
    "\n",
    "Der Anfang bis zur Anmeldung ist identisch mit dem \"normalen\" Client"
   ]
  },
  {
   "cell_type": "code",
   "execution_count": 1,
   "metadata": {
    "tags": []
   },
   "outputs": [],
   "source": [
    "import socket\n",
    "client_socket = socket.socket(socket.AF_INET, socket.SOCK_STREAM)\n",
    "host = ('localhost', 5000)  # Sie können hier auch einen anderen Host (jupyter-xxnnnnx) eingeben und mit anderen chatten\n",
    "BUFSIZ = 1024 # Größe des Puffers. Soll größer sein als die erwartete maximale Länge eines Posts"
   ]
  },
  {
   "cell_type": "code",
   "execution_count": 2,
   "metadata": {},
   "outputs": [],
   "source": [
    "# Verbindungsanfrage an den Server\n",
    "client_socket.connect(host)\n",
    "# Der Server antwortet sofort mit der Aufforderung, den Benutzernamen einzugeben\n",
    "answer = client_socket.recv(BUFSIZ).decode()"
   ]
  },
  {
   "cell_type": "code",
   "execution_count": 3,
   "metadata": {
    "tags": []
   },
   "outputs": [
    {
     "name": "stdin",
     "output_type": "stream",
     "text": [
      "Bitte Benutzername eingeben:  Manfred\n"
     ]
    },
    {
     "data": {
      "text/plain": [
       "'Willkommen Manfred! Zum Verlassen \"<ende>\" eingeben.'"
      ]
     },
     "execution_count": 3,
     "metadata": {},
     "output_type": "execute_result"
    }
   ],
   "source": [
    "# Nun sollten wir den Server mit dem Benutzernamen versorgen und damit die Anmeldung abschließen\n",
    "name = input('Bitte Benutzername eingeben: ')\n",
    "client_socket.send(name.encode())\n",
    "# Der Server antwortet auf jeden send mit einer Antwort. Diese müssen wir abholen und lesen\n",
    "client_socket.recv(BUFSIZ).decode()"
   ]
  },
  {
   "cell_type": "markdown",
   "metadata": {},
   "source": [
    "## Threading\n",
    "Ab hier wird es anders. Wir erzeugen Sub-Klassen der Klasse Thread für die beiden parallel laufenden Prozesse Monitor und Sender"
   ]
  },
  {
   "cell_type": "code",
   "execution_count": 4,
   "metadata": {
    "tags": []
   },
   "outputs": [],
   "source": [
    "import threading"
   ]
  },
  {
   "cell_type": "markdown",
   "metadata": {
    "tags": []
   },
   "source": [
    "## Subclassing\n",
    "\n",
    "Erzeugen einer neuen Klasse Monitor, die alle Eigenschaften und Methoden der Klasse Thread \"erbt\". Durch \"Überschreiben\" von Methoden wird sie für eine Aufgabe spezialisiert.\n",
    "Die `run()`-Methode ist das Herzstück des Threads. Die Funktion wird nach `.start()` aufgerufen. Solange die Funktion läuft ist der Thread \"am Leben\" (`.is_alive()`)"
   ]
  },
  {
   "cell_type": "code",
   "execution_count": 5,
   "metadata": {
    "tags": []
   },
   "outputs": [],
   "source": [
    "class Monitor(threading.Thread):\n",
    "\n",
    "    # Wir überschreiben die Methode run\n",
    "    # der Thread terminiert, wenn diese Methode endet.\n",
    "    def run(self):\n",
    "        while True:\n",
    "            print(client_socket.recv(BUFSIZ).decode())\n",
    "    # das passiert so natürlich nie !"
   ]
  },
  {
   "cell_type": "markdown",
   "metadata": {
    "tags": []
   },
   "source": [
    "Erzeugen einer neuen Klasse Sender"
   ]
  },
  {
   "cell_type": "code",
   "execution_count": 6,
   "metadata": {
    "tags": []
   },
   "outputs": [],
   "source": [
    "class Sender(threading.Thread):\n",
    "\n",
    "    # Wir überschreiben run() mit der Aufgabe dieses Threads\n",
    "    def run(self):\n",
    "        msg = ''\n",
    "        # Wiederhole solange die Botschaft nicht <ende> lautet\n",
    "        while msg != '<ende>':\n",
    "            # Lese die nächste Nachricht\n",
    "            msg = input('Botschaft:')\n",
    "            # und schicke sie zum Server\n",
    "            client_socket.send(msg.encode())\n"
   ]
  },
  {
   "cell_type": "code",
   "execution_count": 7,
   "metadata": {},
   "outputs": [],
   "source": [
    "# Hier werden Instanzen der beiden Klassen gebildet\n",
    "monitor = Monitor()\n",
    "sender = Sender()"
   ]
  },
  {
   "cell_type": "code",
   "execution_count": null,
   "metadata": {},
   "outputs": [
    {
     "name": "stdout",
     "output_type": "stream",
     "text": [
      "Server: lw6014s ist im Chat!\n"
     ]
    },
    {
     "name": "stdin",
     "output_type": "stream",
     "text": [
      "Botschaft: Hallo lw6014s Wer bist Du?\n"
     ]
    },
    {
     "name": "stdout",
     "output_type": "stream",
     "text": [
      "Manfred: Hallo lw6014s Wer bist Du?\n",
      "lw6014s: Hallo, ich bin lw6014s.\n",
      "lw6014s: ist das Klausurrelevant?\n"
     ]
    },
    {
     "name": "stdin",
     "output_type": "stream",
     "text": [
      "Botschaft: Natürlich nicht!\n"
     ]
    },
    {
     "name": "stdout",
     "output_type": "stream",
     "text": [
      "Manfred: Natürlich nicht!\n",
      "Server: cw1515s ist im Chat!\n",
      "lw6014s: Hallo, wer bist denn du?\n",
      "cw1515s: bin ich schon drin ?\n",
      "Server:  ist im Chat!\n",
      ": \n",
      "Server: Philip ist im Chat!\n"
     ]
    },
    {
     "name": "stdin",
     "output_type": "stream",
     "text": [
      "Botschaft: Hallo Philipp\n"
     ]
    },
    {
     "name": "stdout",
     "output_type": "stream",
     "text": [
      "Manfred: Hallo Philipp\n",
      "Philip: läuft !\n",
      "Server: cp4802s ist im Chat!\n",
      "cp4802s: Hola!\n",
      "lw6014s: Hallo, wer bist denn du?\n",
      "cp4802s: cplulatsch\n",
      "lw6014s: der cplutscha123, weiste bescheid\n"
     ]
    }
   ],
   "source": [
    "monitor.start()\n",
    "sender.start()\n",
    "sender.join()"
   ]
  },
  {
   "cell_type": "code",
   "execution_count": null,
   "metadata": {},
   "outputs": [],
   "source": []
  }
 ],
 "metadata": {
  "kernelspec": {
   "display_name": "Python 3 (ipykernel)",
   "language": "python",
   "name": "python3"
  },
  "language_info": {
   "codemirror_mode": {
    "name": "ipython",
    "version": 3
   },
   "file_extension": ".py",
   "mimetype": "text/x-python",
   "name": "python",
   "nbconvert_exporter": "python",
   "pygments_lexer": "ipython3",
   "version": "3.10.8"
  }
 },
 "nbformat": 4,
 "nbformat_minor": 4
}
