{
 "cells": [
  {
   "cell_type": "markdown",
   "metadata": {},
   "source": [
    "# \"Naiver\" Client\n",
    "\n",
    "Wir kontaktieren unseren eigenen lokalen Chatserver. Seine IP-Adresse ist eine Adresse innerhalb des Docker-Netzwerks. Vorerst verwenden wir 127.0.0.1. Dafür können wir auch `localhost` schreiben. (Wie Sie miteinander chatten können, verrate ich Ihnen später) Als Port für Anfragen verwenden wir den (freien) Port 5000.\n",
    "Außerdem legen wir hier schon fest, wie der Client heißt (später werden wir weitere Clients erzeugen, die wir am Benutzername unterscheiden)\n",
    "\n",
    "Es kann passieren, dass der primitive Server auf falsche Reihenfolgen mit Blockaden reagiert. Sollte dies der Fall sein, stoppen Sie ihn über die `Shut Down all Kernel Sessions` (zweiter Eintrag in der linken Symbolleiste) und starten Sie ihn wieder neu. Restarten Sie dann den Kernel für dieses Notebook und wiederholen Sie die Schritte zur Anmeldung.\n",
    "\n",
    "Ggf. müssen Sie etwas abwarten (Adress already in use) oder Ihren Jupyterserver neu starten. Wenn oben rechts \"no kernel\" steht, müssen Sie `Restart the Kernel` ausführen."
   ]
  },
  {
   "cell_type": "markdown",
   "metadata": {},
   "source": [
    "### Wir fangen ganz einfach an und melden und zunächst mal beim Server an."
   ]
  },
  {
   "cell_type": "code",
   "execution_count": 1,
   "metadata": {},
   "outputs": [
    {
     "name": "stdout",
     "output_type": "stream",
     "text": [
      "Beispiel: Der Zahlenwert für AddressFamily.AF_INET ist 2\n"
     ]
    }
   ],
   "source": [
    "import socket\n",
    "\n",
    "# Wir erzeugen ein Verbindungselement für IPv4-Kommunikation (AF_INET) und TCP (SOCK_STREAM), also eine \"klassische\" TCP/IP Verbindung. Damit man die Zahlen nicht auswendig lernen muss \n",
    "# definiert das Modul Socket die Konstanten\n",
    "print(f'Beispiel: Der Zahlenwert für {str(socket.AF_INET)} ist {int(socket.AF_INET)}')\n",
    "\n",
    "client_socket = socket.socket(socket.AF_INET, socket.SOCK_STREAM)"
   ]
  },
  {
   "cell_type": "code",
   "execution_count": 2,
   "metadata": {
    "tags": []
   },
   "outputs": [],
   "source": [
    "host = ('localhost', 5001)  # Bitte Ihre Ilias-Kennung eintragen\n",
    "BUFSIZ = 1024 # Größe des Puffers. Soll größer sein als die erwartete maximale Länge eines Posts"
   ]
  },
  {
   "cell_type": "code",
   "execution_count": 3,
   "metadata": {},
   "outputs": [
    {
     "name": "stdout",
     "output_type": "stream",
     "text": [
      "Bitte Namen eingeben\n"
     ]
    }
   ],
   "source": [
    "# Verbindungsanfrage an den Server\n",
    "client_socket.connect(host)\n",
    "answer = client_socket.recv(BUFSIZ).decode()\n",
    "# Der Server antwortet sofort mit der Aufforderung, den Benutzernamen einzugeben\n",
    "print(answer)"
   ]
  },
  {
   "cell_type": "markdown",
   "metadata": {},
   "source": [
    "In der Datenübertragung kennt man keine Strings sondern nur Folgen von Bytes. Vor dem Senden mit `socket.send()` muss ein String deshalb nach festgelegter Umwandlungstabellen in eine Zahlenfolge gewandelt werden. Diesen Prozess nennt man \"Kodierung\", englisch \"encoding\". Wir verwenden künftig konsequent die Methode `.encode('utf-8')` eines String-Objekts zur Kodierung. UTF-8 ist die heute am meisten verbreitete Kodiertabelle und Standard für Python-Strings. Deshalb darf man den Parameter auch weglassen.\n",
    " \n",
    "\n",
    "Das Lesen einer Server-Antwort geschieht mit `socket.recv(BUFSIZE)` (Bufsize ist die Größe eines Puffers für die empfangenen Bytes). Das Ergebnis von `recv` ist ein Objekt des Typs `bytes`, dessen Methode `.decode('utf-8')` zur Dekodierung also zur Umwandlung in `string` benutzt werden kann. Dadurch können wir im Python-Programmen ganz normal mit Strings arbeiten. \n",
    "Beachten Sie das 'b' vor dem Anführungsstrich in der Serverantwort. Wir erkennen daran, dass der Server uns eine bytes-Folge geliefert hat"
   ]
  },
  {
   "cell_type": "code",
   "execution_count": 4,
   "metadata": {},
   "outputs": [
    {
     "ename": "AttributeError",
     "evalue": "'str' object has no attribute 'decode'",
     "output_type": "error",
     "traceback": [
      "\u001b[0;31m---------------------------------------------------------------------------\u001b[0m",
      "\u001b[0;31mAttributeError\u001b[0m                            Traceback (most recent call last)",
      "Cell \u001b[0;32mIn[4], line 2\u001b[0m\n\u001b[1;32m      1\u001b[0m \u001b[38;5;66;03m# Dies ist ein String\u001b[39;00m\n\u001b[0;32m----> 2\u001b[0m \u001b[43manswer\u001b[49m\u001b[38;5;241;43m.\u001b[39;49m\u001b[43mdecode\u001b[49m(\u001b[38;5;124m'\u001b[39m\u001b[38;5;124mutf-8\u001b[39m\u001b[38;5;124m'\u001b[39m)\n\u001b[1;32m      3\u001b[0m \u001b[38;5;66;03m# Auf die Angabe der Kodiertabelle kann man in einfachen Fällen (keine Umlaute etc.) verzichten\u001b[39;00m\n",
      "\u001b[0;31mAttributeError\u001b[0m: 'str' object has no attribute 'decode'"
     ]
    }
   ],
   "source": [
    "# Dies ist ein String\n",
    "answer.decode('utf-8')\n",
    "# Auf die Angabe der Kodiertabelle kann man in einfachen Fällen (keine Umlaute etc.) verzichten"
   ]
  },
  {
   "cell_type": "code",
   "execution_count": 5,
   "metadata": {},
   "outputs": [
    {
     "name": "stdin",
     "output_type": "stream",
     "text": [
      "Bitte Benutzername eingeben:  Mambo\n"
     ]
    },
    {
     "name": "stdout",
     "output_type": "stream",
     "text": [
      "Willkommen Mambo! Zum Verlassen \"<ende>\" eingeben.\n"
     ]
    }
   ],
   "source": [
    "# Nun sollten wir den Server mit dem Benutzernamen versorgen und damit die Anmeldung abschließen\n",
    "name = input('Bitte Benutzername eingeben: ')\n",
    "client_socket.send(name.encode())\n",
    "# Der Server antwortet auf jeden send mit einer Antwort. Diese müssen wir abholen und lesen\n",
    "answer = client_socket.recv(BUFSIZ).decode()\n",
    "print(answer)"
   ]
  },
  {
   "cell_type": "markdown",
   "metadata": {},
   "source": [
    "### Anmeldung abgeschlossen. Ab jetzt erhalten wir für jede Botschaft eine Antwort"
   ]
  },
  {
   "cell_type": "code",
   "execution_count": 6,
   "metadata": {
    "tags": []
   },
   "outputs": [
    {
     "data": {
      "text/plain": [
       "18"
      ]
     },
     "execution_count": 6,
     "metadata": {},
     "output_type": "execute_result"
    }
   ],
   "source": [
    "client_socket.send('mein erste Posting'.encode())"
   ]
  },
  {
   "cell_type": "code",
   "execution_count": 7,
   "metadata": {},
   "outputs": [
    {
     "name": "stdout",
     "output_type": "stream",
     "text": [
      "Mambo: mein erste Posting\n"
     ]
    }
   ],
   "source": [
    "# Anwort lesen, dekodieren und ausgeben. \n",
    "print(client_socket.recv(BUFSIZ).decode())"
   ]
  },
  {
   "cell_type": "code",
   "execution_count": null,
   "metadata": {},
   "outputs": [
    {
     "name": "stdin",
     "output_type": "stream",
     "text": [
      "Botschaft: Hallo, das ist meine zweite Botschaft\n"
     ]
    },
    {
     "name": "stdout",
     "output_type": "stream",
     "text": [
      "Mambo: Hallo, das ist meine zweite Botschaft\n"
     ]
    },
    {
     "name": "stdin",
     "output_type": "stream",
     "text": [
      "Botschaft: hallo\n"
     ]
    },
    {
     "name": "stdout",
     "output_type": "stream",
     "text": [
      "Mambo: hallo\n"
     ]
    },
    {
     "name": "stdin",
     "output_type": "stream",
     "text": [
      "Botschaft: März\n"
     ]
    },
    {
     "name": "stdout",
     "output_type": "stream",
     "text": [
      "Mambo: März\n"
     ]
    },
    {
     "name": "stdin",
     "output_type": "stream",
     "text": [
      "Botschaft: Hallo\n"
     ]
    },
    {
     "name": "stdout",
     "output_type": "stream",
     "text": [
      "Mambo: Hallo\n"
     ]
    }
   ],
   "source": [
    "# Für die richtige Reihenfolge sorgt diese Schleife\n",
    "msg = ''\n",
    "while msg != '<ende>':\n",
    "    msg = input('Botschaft:')\n",
    "    client_socket.send(msg.encode())\n",
    "    print(client_socket.recv(BUFSIZ).decode())"
   ]
  },
  {
   "cell_type": "markdown",
   "metadata": {},
   "source": [
    "### Und wo ist jetzt das Problem?\n",
    "\n",
    "So lange Sie mit sich selbst chatten, gibt es kein Problem. Aber der Spass ist nur von begrenzter Dauer. Sobald die Symmetrie Frage-Antwort verletzt wird, funktioniert das Programm nicht mehr so, wie es soll. Machen Sie einen einfachen Test: Kommentieren Sie einfach die Anweisung in Zelle 7 `print(client_socket.recv(BUFSIZ).decode())` aus. Sie erhalten nicht mehr das Echo auf Ihre Eingabe, sonderns das des zurückliegenden `send`. Wenn Sie nun auch noch die `client_socket.send()`-Anweisung aktivieren sehen Sie sehr schön die Funktion einer `Pipeline`. Alle `send`-Anweisungen schicken Bytes auf die Reise. Mit `recv` holt man (bis zur Größe BUFSIZ) alles ab, was aufgelaufen ist.\n",
    "\n",
    "Wenn nun ein weiterer Client dazukommt, ist die Symmetrie endgültig gestört. Probieren Sie es auch. Duplizieren Sie dieses Notebook, ändern Sie den Usernamen und spielen Sie mal."
   ]
  }
 ],
 "metadata": {
  "kernelspec": {
   "display_name": "Python 3 (ipykernel)",
   "language": "python",
   "name": "python3"
  },
  "language_info": {
   "codemirror_mode": {
    "name": "ipython",
    "version": 3
   },
   "file_extension": ".py",
   "mimetype": "text/x-python",
   "name": "python",
   "nbconvert_exporter": "python",
   "pygments_lexer": "ipython3",
   "version": "3.10.8"
  }
 },
 "nbformat": 4,
 "nbformat_minor": 4
}
