{
 "cells": [
  {
   "cell_type": "markdown",
   "metadata": {},
   "source": [
    "## Übung zum Thema Kommunkation\n",
    "\n",
    "### Aufgabenstellung\n",
    "\n",
    "Ein Chat-Client muss sich bei einem Chat-Server anmelden und erhält für jede Eingabe eine direkte Antwort (Echo). Außerdem soll\n",
    "der Client aber auch bei jedem Posting eines anderen Clients sowie über Beitritt und Austritt anderer Teilnehmer informiert werden. Das macht die Sache durchaus komplex.\n",
    "\n",
    "### Start des Chatservers\n",
    "\n",
    "Vor den nächsten Aktionen starten wir zunächst unseren eigenen Chat-Server. Wechseln Sie auf `Simplest_ChatServer.ipynb` und folgen Sie den Anweisungen\n",
    "\n",
    "### Aufgabe 1: Experimente mit [Simplest_Client.ipynb](Simplest_Client.ipynb)\n",
    "\n",
    "In dieser Aufgabe lernen wir Grundlagen des Dialogs zwischen Client und Server kennen und stoßen an die Grenzen des Monotaskings bei der Kommunikation\n",
    "\n",
    "### Aufgabe 2: Experimente mit [Async_Client.ipynb](Async_Client.ipynb)\n",
    "\n",
    "Wir lösen das Problem aus Aufgabe 1 mit Multi-Threading\n",
    "\n",
    "### Aufgabe 3: Verstehen des [ChatServer.ipynb](ChatServer.ipynb)\n",
    "\n",
    "Wenn Sie verstanden haben, warum wir für einen Chat-Client Multi-Threading brauchen, verstehen Sie auch den Server"
   ]
  },
  {
   "cell_type": "code",
   "execution_count": null,
   "metadata": {},
   "outputs": [],
   "source": []
  }
 ],
 "metadata": {
  "kernelspec": {
   "display_name": "Python 3 (ipykernel)",
   "language": "python",
   "name": "python3"
  },
  "language_info": {
   "codemirror_mode": {
    "name": "ipython",
    "version": 3
   },
   "file_extension": ".py",
   "mimetype": "text/x-python",
   "name": "python",
   "nbconvert_exporter": "python",
   "pygments_lexer": "ipython3",
   "version": "3.10.8"
  }
 },
 "nbformat": 4,
 "nbformat_minor": 4
}
