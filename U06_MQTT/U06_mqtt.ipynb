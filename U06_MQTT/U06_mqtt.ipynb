{
 "cells": [
  {
   "cell_type": "markdown",
   "id": "b6b55411-b71f-4dc4-992c-da2f7592959f",
   "metadata": {},
   "source": [
    "# Übung MQTT\n",
    "\n",
    "In dieser Übung lernen Sie, wie Sie mit Python mqtt-Kommunikation programmieren\n",
    "\n",
    "## Aufgabe 1: Publishen von Informationen mit "
   ]
  },
  {
   "cell_type": "code",
   "execution_count": null,
   "id": "a1eee5c9-a8fd-4aaa-9cc4-f8ae022e422d",
   "metadata": {},
   "outputs": [],
   "source": []
  }
 ],
 "metadata": {
  "kernelspec": {
   "display_name": "Python 3 (ipykernel)",
   "language": "python",
   "name": "python3"
  },
  "language_info": {
   "codemirror_mode": {
    "name": "ipython",
    "version": 3
   },
   "file_extension": ".py",
   "mimetype": "text/x-python",
   "name": "python",
   "nbconvert_exporter": "python",
   "pygments_lexer": "ipython3",
   "version": "3.10.8"
  }
 },
 "nbformat": 4,
 "nbformat_minor": 5
}
