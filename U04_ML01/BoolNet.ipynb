{
 "cells": [
  {
   "cell_type": "markdown",
   "metadata": {},
   "source": [
    "## Enführung in das Maschinelle Lernen mit einem Perzeptron\n",
    "Ein Schwellenwertelement (Perzeptron) kann bereits zur Klassifizierung von Merkmalen benutzt werden. Eine recht einfache Klassifizierung ist die Generierung einer BOOLschen Funktion, die beide Klassen, also 0 und 1 unterscheiden kann. Im folgenden Beispiel wird ein Perzeptron benutzt, um die AND Funktion zu \"lernen\" und danach andere Kombinationen von Wertepaaren zu klassifizieren. Hierbei wird sklearn eingesetzt, welches ein sehr leistungsfähiges Werkzeug für das maschinelle Lernen unter python darstellt. "
   ]
  },
  {
   "cell_type": "code",
   "execution_count": 165,
   "metadata": {},
   "outputs": [],
   "source": [
    "import matplotlib.pyplot as plt\n",
    "import numpy as np\n",
    "\n",
    "from sklearn.linear_model import Perceptron"
   ]
  },
  {
   "cell_type": "markdown",
   "metadata": {},
   "source": [
    "Zuerst wird ein Array aus Trainingsdaten erzeugt. Diese Werte werden dem Perzeptron während der Trainingsphase als Eingangsdaten präsentiert. "
   ]
  },
  {
   "cell_type": "code",
   "execution_count": 166,
   "metadata": {},
   "outputs": [],
   "source": [
    "data_train = np.array([[0.0, 0.0],\n",
    "                [1.0, 0.0],\n",
    "                [0.0, 1.0],\n",
    "                [1.0, 1.0]])"
   ]
  },
  {
   "cell_type": "markdown",
   "metadata": {},
   "source": [
    "Die Trainingsdaten müssen mit den gewünschten Ausgangsdaten verknüpft werden, die das Netz \"lernen\" soll. Hierzu wird ein weiteres Array benutzt. Die \"Target\" Daten passen vom Index zu den Eingangsdaten, so dass z.B. das Wertepaar 0/0 der Klasse 0 und 0/1 ebenfalls der Klasse 0 zugeordnet wird. Hier wird die AND Verknüpfung erzeugt.  "
   ]
  },
  {
   "cell_type": "code",
   "execution_count": 167,
   "metadata": {},
   "outputs": [],
   "source": [
    "target = np.array([0.0,0.0,0.0,1.0])"
   ]
  },
  {
   "cell_type": "markdown",
   "metadata": {},
   "source": [
    "Jetzt muss nur noch ein Perceptron erzeugt und trainiert werden. Die Funktion fit des Objektes Perceptron benutzt die Eingangsdaten und die gewünschten Ausgangsdaten, um die Gewichte und den Schwellenwert des Perzepztrons iterativ zu ermitteln. Die maximale Anzahl der Iteration wird mit max_iter auf 4000 begrenzt. Die Lernrate eta beträgt 0.1 siehe dazu den Vorlesungsskript und die Erläuterung zum Training mit der \"Delta\"-Rule."
   ]
  },
  {
   "cell_type": "code",
   "execution_count": 168,
   "metadata": {},
   "outputs": [
    {
     "data": {
      "text/plain": [
       "Perceptron(eta0=0.1, max_iter=4000, random_state=1)"
      ]
     },
     "execution_count": 168,
     "metadata": {},
     "output_type": "execute_result"
    }
   ],
   "source": [
    "ppn = Perceptron(max_iter=4000, eta0=0.1, random_state=1)\n",
    "ppn.fit(data_train, target)"
   ]
  },
  {
   "cell_type": "markdown",
   "metadata": {},
   "source": [
    "Zum Test des trainierten Perzeptrons werden Testdaten erzeugt. Sie dienen zur Verfikation, dass die Klassen gut voneinander getrennt werden. Außerdem sollen sie die Verallgemeinerung des Perzeptrons widerspiegeln, so dass z.B. das Wertepaar 0.8/0.8 der Klasse 1 zugeordnet wird."
   ]
  },
  {
   "cell_type": "code",
   "execution_count": 169,
   "metadata": {},
   "outputs": [],
   "source": [
    "test_data = np.array([[0.0, 0.0],\n",
    "                [0.1, 0.1],\n",
    "                [0.2, 0.3],\n",
    "                [0.8, 0.8],\n",
    "                [0.6, 0.2],\n",
    "                [0.3, 0.2],\n",
    "                [0.7, 0.6],\n",
    "                [0.5, 0.5],\n",
    "                [0.55, 0.6]])"
   ]
  },
  {
   "cell_type": "markdown",
   "metadata": {},
   "source": [
    "Die Klassifizierung des Perzeptrons wird auch als \"Prediction\", also Vorhersage bezeichnet. Hierfür besitzt das Objekt Perceptron eine Funktion predict. Diese Funktion wird auf unseren Testdatensatz angewendet und das Ergebnis ausgedruckt."
   ]
  },
  {
   "cell_type": "code",
   "execution_count": 170,
   "metadata": {},
   "outputs": [],
   "source": [
    "pred = ppn.predict(test_data)"
   ]
  },
  {
   "cell_type": "code",
   "execution_count": 171,
   "metadata": {},
   "outputs": [
    {
     "name": "stdout",
     "output_type": "stream",
     "text": [
      "Input:  [0. 0.] Klasse:  0.0\n",
      "Input:  [0.1 0.1] Klasse:  0.0\n",
      "Input:  [0.2 0.3] Klasse:  0.0\n",
      "Input:  [0.8 0.8] Klasse:  1.0\n",
      "Input:  [0.6 0.2] Klasse:  0.0\n",
      "Input:  [0.3 0.2] Klasse:  0.0\n",
      "Input:  [0.7 0.6] Klasse:  1.0\n",
      "Input:  [0.5 0.5] Klasse:  0.0\n",
      "Input:  [0.55 0.6 ] Klasse:  1.0\n"
     ]
    }
   ],
   "source": [
    "Length = test_data.shape[0]\n",
    "for i in range(0,Length):\n",
    "    print(\"Input: \", test_data[i], \"Klasse: \",pred[i])"
   ]
  },
  {
   "cell_type": "markdown",
   "metadata": {},
   "source": [
    "Man erkennt, dass alle Muster gut klassifiziert, also im Bereich der Erwartungen liegen. Um diese Klassifikation zu visualisieren wird die folgende Funktion verwendet, die auch die Klassifikationsgrenze des Perzeptron farblich einzeichnet."
   ]
  },
  {
   "cell_type": "code",
   "execution_count": 172,
   "metadata": {},
   "outputs": [],
   "source": [
    "from matplotlib.colors import ListedColormap\n",
    "\n",
    "def plot_decision_regions(X, y, classifier, test_idx=None, resolution=0.02):\n",
    "    # setup marker generator and color map\n",
    "    markers = ('s', 'x', 'o', '^', 'v')\n",
    "    colors = ('red', 'blue', 'lightgreen', 'gray', 'cyan')\n",
    "    cmap = ListedColormap(colors[:len(np.unique(y))])\n",
    "    # plot the decision surface\n",
    "    x1_min, x1_max = X[:, 0].min() - 0.1, X[:, 0].max() + 0.1\n",
    "    x2_min, x2_max = X[:, 1].min() - 0.1, X[:, 1].max() + 0.1\n",
    "    xx1, xx2 = np.meshgrid(np.arange(x1_min, x1_max, resolution),\n",
    "                           np.arange(x2_min, x2_max, resolution))\n",
    "    Z = classifier.predict(np.array([xx1.ravel(), xx2.ravel()]).T)\n",
    "    Z = Z.reshape(xx1.shape)\n",
    "    plt.contourf(xx1, xx2, Z, alpha=0.3, cmap=cmap)\n",
    "    plt.xlim(xx1.min(), xx1.max())\n",
    "    plt.ylim(xx2.min(), xx2.max())\n",
    "    plt.xlabel('x1')\n",
    "    plt.ylabel('x2')\n",
    "\n",
    "    for idx, cl in enumerate(np.unique(y)):\n",
    "        plt.scatter(x=X[y == cl, 0], y=X[y == cl, 1],\n",
    "                    alpha=0.8, c=colors[idx],\n",
    "                    marker=markers[idx], label=cl,\n",
    "                    edgecolor='black')\n",
    "\n",
    "    # highlight test samples\n",
    "    if test_idx:\n",
    "        # plot all samples\n",
    "        X_test, y_test = X[test_idx, :], y[test_idx]\n",
    "        plt.scatter(X_test[:, 0], X_test[:, 1],\n",
    "                    c='', edgecolor='black', alpha=1.0,\n",
    "                    linewidth=1, marker='o',\n",
    "                    s=100, label='test set')\n",
    "\n",
    "    plt.legend(loc='upper left')\n",
    "    plt.show()"
   ]
  },
  {
   "cell_type": "code",
   "execution_count": 173,
   "metadata": {},
   "outputs": [
    {
     "data": {
      "image/png": "[encoded data removed]",
      "text/plain": [
       "<Figure size 432x288 with 1 Axes>"
      ]
     },
     "metadata": {
      "needs_background": "light"
     },
     "output_type": "display_data"
    }
   ],
   "source": [
    "X_combined = np.vstack((data_train, test_data))\n",
    "y_combined = np.hstack((target, pred))\n",
    "\n",
    "plot_decision_regions(X=X_combined,y=y_combined,classifier=ppn)"
   ]
  },
  {
   "cell_type": "markdown",
   "metadata": {},
   "source": [
    "Durch zusätzliche Trainigsdaten kann die Grenze verschoben werden.\n",
    "Auch können andere Klassifikatoren eingesetzt werden, z.B. eine Support Vector Machine oder ein Multilayer Perceptron.\n",
    "Hier die Variante mit MLP:"
   ]
  },
  {
   "cell_type": "code",
   "execution_count": 174,
   "metadata": {},
   "outputs": [],
   "source": [
    "from sklearn.neural_network import MLPClassifier"
   ]
  },
  {
   "cell_type": "code",
   "execution_count": 175,
   "metadata": {},
   "outputs": [
    {
     "data": {
      "text/plain": [
       "MLPClassifier(alpha=1e-05, hidden_layer_sizes=(5, 2), random_state=1,\n",
       "              solver='lbfgs')"
      ]
     },
     "execution_count": 175,
     "metadata": {},
     "output_type": "execute_result"
    }
   ],
   "source": [
    "mlp = MLPClassifier(solver='lbfgs', alpha=1e-5,\n",
    "                    hidden_layer_sizes=(5, 2), random_state=1)\n",
    "\n",
    "mlp.fit(data_train, target)"
   ]
  },
  {
   "cell_type": "code",
   "execution_count": 176,
   "metadata": {},
   "outputs": [],
   "source": [
    "pred = mlp.predict(test_data)"
   ]
  },
  {
   "cell_type": "code",
   "execution_count": 177,
   "metadata": {},
   "outputs": [
    {
     "name": "stdout",
     "output_type": "stream",
     "text": [
      "Input:  [0. 0.] Klasse:  0.0\n",
      "Input:  [0.1 0.1] Klasse:  0.0\n",
      "Input:  [0.2 0.3] Klasse:  0.0\n",
      "Input:  [0.8 0.8] Klasse:  1.0\n",
      "Input:  [0.6 0.2] Klasse:  0.0\n",
      "Input:  [0.3 0.2] Klasse:  0.0\n",
      "Input:  [0.7 0.6] Klasse:  0.0\n",
      "Input:  [0.5 0.5] Klasse:  0.0\n",
      "Input:  [0.55 0.6 ] Klasse:  0.0\n"
     ]
    }
   ],
   "source": [
    "Length = test_data.shape[0]\n",
    "for i in range(0,Length):\n",
    "    print(\"Input: \", test_data[i], \"Klasse: \",pred[i])"
   ]
  },
  {
   "cell_type": "code",
   "execution_count": 178,
   "metadata": {},
   "outputs": [
    {
     "data": {
      "image/png": "[encoded data removed]",
      "text/plain": [
       "<Figure size 432x288 with 1 Axes>"
      ]
     },
     "metadata": {
      "needs_background": "light"
     },
     "output_type": "display_data"
    }
   ],
   "source": [
    "X_combined = np.vstack((data_train, test_data))\n",
    "y_combined = np.hstack((target, pred))\n",
    "\n",
    "plot_decision_regions(X=X_combined,y=y_combined,classifier=mlp)"
   ]
  },
  {
   "cell_type": "markdown",
   "metadata": {},
   "source": [
    "Erkennbar ist, dass das MLP die Schwelle weiter nach \"oben\" setzt. Hier sollten dann noch weitere Trainingsdaten z.B. für die Wertepaare größer als 0.5/0.5 mit Klasse 1 erzeugt werden:  "
   ]
  },
  {
   "cell_type": "code",
   "execution_count": 179,
   "metadata": {},
   "outputs": [],
   "source": [
    "mlp_train = np.array([[0.0, 0.0],\n",
    "                [1.0, 0.0],\n",
    "                [0.0, 1.0],\n",
    "                [1.0, 1.0],\n",
    "                [0.8, 0.8],\n",
    "                [0.7, 0.7],\n",
    "                [0.6, 0.6]])"
   ]
  },
  {
   "cell_type": "code",
   "execution_count": 180,
   "metadata": {},
   "outputs": [],
   "source": [
    "mlp_target = np.array([0.0,0.0,0.0,1.0,1.0,1.0,1.0])"
   ]
  },
  {
   "cell_type": "code",
   "execution_count": 181,
   "metadata": {},
   "outputs": [
    {
     "name": "stdout",
     "output_type": "stream",
     "text": [
      "Input:  [0. 0.] Klasse:  0.0\n",
      "Input:  [0.1 0.1] Klasse:  0.0\n",
      "Input:  [0.2 0.3] Klasse:  0.0\n",
      "Input:  [0.8 0.8] Klasse:  1.0\n",
      "Input:  [0.6 0.2] Klasse:  0.0\n",
      "Input:  [0.3 0.2] Klasse:  0.0\n",
      "Input:  [0.7 0.6] Klasse:  1.0\n",
      "Input:  [0.5 0.5] Klasse:  0.0\n",
      "Input:  [0.55 0.6 ] Klasse:  0.0\n"
     ]
    }
   ],
   "source": [
    "mlp = MLPClassifier(solver='lbfgs', alpha=1e-5,\n",
    "                    hidden_layer_sizes=(5, 2), random_state=1)\n",
    "\n",
    "mlp.fit(mlp_train, mlp_target)\n",
    "pred = mlp.predict(test_data)\n",
    "Length = test_data.shape[0]\n",
    "for i in range(0,Length):\n",
    "    print(\"Input: \", test_data[i], \"Klasse: \",pred[i])"
   ]
  },
  {
   "cell_type": "code",
   "execution_count": 182,
   "metadata": {},
   "outputs": [
    {
     "data": {
      "image/png": "[encoded data removed]",
      "text/plain": [
       "<Figure size 432x288 with 1 Axes>"
      ]
     },
     "metadata": {
      "needs_background": "light"
     },
     "output_type": "display_data"
    }
   ],
   "source": [
    "X_combined = np.vstack((mlp_train, test_data))\n",
    "y_combined = np.hstack((mlp_target, pred))\n",
    "\n",
    "plot_decision_regions(X=X_combined,y=y_combined,classifier=mlp)"
   ]
  },
  {
   "cell_type": "code",
   "execution_count": null,
   "metadata": {},
   "outputs": [],
   "source": []
  }
 ],
 "metadata": {
  "kernelspec": {
   "display_name": "Python 3 (ipykernel)",
   "language": "python",
   "name": "python3"
  },
  "language_info": {
   "codemirror_mode": {
    "name": "ipython",
    "version": 3
   },
   "file_extension": ".py",
   "mimetype": "text/x-python",
   "name": "python",
   "nbconvert_exporter": "python",
   "pygments_lexer": "ipython3",
   "version": "3.10.6"
  }
 },
 "nbformat": 4,
 "nbformat_minor": 4
}
