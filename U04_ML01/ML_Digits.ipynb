{
 "cells": [
  {
   "cell_type": "code",
   "execution_count": 1,
   "id": "1650b8a5-7ebc-41a9-bcfc-6d79eef7d536",
   "metadata": {},
   "outputs": [],
   "source": [
    "# Standard scientific Python imports\n",
    "import matplotlib.pyplot as plt\n",
    "\n",
    "# Import datasets, classifiers and performance metrics\n",
    "from sklearn import datasets, svm, metrics\n",
    "from sklearn.model_selection import train_test_split\n",
    "from sklearn.linear_model import Perceptron\n",
    "from sklearn.neural_network import MLPClassifier"
   ]
  },
  {
   "cell_type": "code",
   "execution_count": 2,
   "id": "23933174-bd4d-4c19-bfef-5f8407f6f8e9",
   "metadata": {},
   "outputs": [],
   "source": [
    "# The digits dataset\n",
    "digits = datasets.load_digits()"
   ]
  },
  {
   "cell_type": "code",
   "execution_count": 3,
   "id": "7f3ea2fd-990c-40e1-a03c-d5ef4a03c223",
   "metadata": {},
   "outputs": [
    {
     "data": {
      "image/png": "[encoded data removed]",
      "text/plain": [
       "<Figure size 640x480 with 4 Axes>"
      ]
     },
     "metadata": {},
     "output_type": "display_data"
    }
   ],
   "source": [
    "fig, axes = plt.subplots(1,4)\n",
    "images_and_labels = list(zip(digits.images, digits.target))\n",
    "for ax,i in zip(axes,range(4)):\n",
    "    ax.set_axis_off()\n",
    "    ax.imshow(digits.images[i], cmap=plt.cm.gray_r, interpolation='nearest')\n",
    "    ax.set_title('Training: %i' % digits.target[i])\n",
    "plt.show()"
   ]
  },
  {
   "cell_type": "code",
   "execution_count": 4,
   "id": "63e1539c-29db-4033-b5ab-5603d6240620",
   "metadata": {},
   "outputs": [],
   "source": [
    "n_samples = len(digits.images)\n",
    "data = digits.images.reshape((n_samples, -1))"
   ]
  },
  {
   "cell_type": "code",
   "execution_count": 5,
   "id": "aea6b16a-6e4b-49bb-85c2-39943ac5d768",
   "metadata": {},
   "outputs": [],
   "source": [
    "classifier = MLPClassifier(alpha=0.003, max_iter=500, verbose=True, early_stopping=True)"
   ]
  },
  {
   "cell_type": "code",
   "execution_count": 18,
   "id": "64e90a2f-313c-4cfc-a26e-5f37d6f0aad4",
   "metadata": {},
   "outputs": [],
   "source": [
    "X_train, X_test, y_train, y_test = train_test_split(\n",
    "    data, digits.target, test_size=0.3, shuffle=False)"
   ]
  },
  {
   "cell_type": "code",
   "execution_count": 19,
   "id": "7052a703-cbd9-46ae-b7dd-b9d543dbb39e",
   "metadata": {},
   "outputs": [
    {
     "name": "stdout",
     "output_type": "stream",
     "text": [
      "Iteration 1, loss = 8.10941587\n",
      "Validation score: 0.230159\n",
      "Iteration 2, loss = 4.53076237\n",
      "Validation score: 0.182540\n",
      "Iteration 3, loss = 2.92961874\n",
      "Validation score: 0.380952\n",
      "Iteration 4, loss = 1.87840740\n",
      "Validation score: 0.555556\n",
      "Iteration 5, loss = 1.15419926\n",
      "Validation score: 0.714286\n",
      "Iteration 6, loss = 0.81082096\n",
      "Validation score: 0.793651\n",
      "Iteration 7, loss = 0.59199725\n",
      "Validation score: 0.825397\n",
      "Iteration 8, loss = 0.44073088\n",
      "Validation score: 0.857143\n",
      "Iteration 9, loss = 0.34810674\n",
      "Validation score: 0.888889\n",
      "Iteration 10, loss = 0.28298991\n",
      "Validation score: 0.904762\n",
      "Iteration 11, loss = 0.23247067\n",
      "Validation score: 0.904762\n",
      "Iteration 12, loss = 0.20056906\n",
      "Validation score: 0.912698\n",
      "Iteration 13, loss = 0.17794713\n",
      "Validation score: 0.912698\n",
      "Iteration 14, loss = 0.15268392\n",
      "Validation score: 0.928571\n",
      "Iteration 15, loss = 0.13728619\n",
      "Validation score: 0.928571\n",
      "Iteration 16, loss = 0.12269715\n",
      "Validation score: 0.928571\n",
      "Iteration 17, loss = 0.10993230\n",
      "Validation score: 0.928571\n",
      "Iteration 18, loss = 0.10003178\n",
      "Validation score: 0.928571\n",
      "Iteration 19, loss = 0.09147227\n",
      "Validation score: 0.928571\n",
      "Iteration 20, loss = 0.08512172\n",
      "Validation score: 0.928571\n",
      "Iteration 21, loss = 0.07833910\n",
      "Validation score: 0.928571\n",
      "Iteration 22, loss = 0.07209730\n",
      "Validation score: 0.944444\n",
      "Iteration 23, loss = 0.06670946\n",
      "Validation score: 0.944444\n",
      "Iteration 24, loss = 0.06234880\n",
      "Validation score: 0.944444\n",
      "Iteration 25, loss = 0.05788858\n",
      "Validation score: 0.952381\n",
      "Iteration 26, loss = 0.05393882\n",
      "Validation score: 0.952381\n",
      "Iteration 27, loss = 0.05046167\n",
      "Validation score: 0.952381\n",
      "Iteration 28, loss = 0.04716691\n",
      "Validation score: 0.952381\n",
      "Iteration 29, loss = 0.04439958\n",
      "Validation score: 0.952381\n",
      "Iteration 30, loss = 0.04193593\n",
      "Validation score: 0.952381\n",
      "Iteration 31, loss = 0.03940832\n",
      "Validation score: 0.952381\n",
      "Iteration 32, loss = 0.03714351\n",
      "Validation score: 0.952381\n",
      "Iteration 33, loss = 0.03513098\n",
      "Validation score: 0.952381\n",
      "Iteration 34, loss = 0.03372457\n",
      "Validation score: 0.952381\n",
      "Iteration 35, loss = 0.03124630\n",
      "Validation score: 0.952381\n",
      "Iteration 36, loss = 0.02972896\n",
      "Validation score: 0.952381\n",
      "Validation score did not improve more than tol=0.000100 for 10 consecutive epochs. Stopping.\n"
     ]
    },
    {
     "data": {
      "text/html": [
       "<style>#sk-container-id-3 {color: black;background-color: white;}#sk-container-id-3 pre{padding: 0;}#sk-container-id-3 div.sk-toggleable {background-color: white;}#sk-container-id-3 label.sk-toggleable__label {cursor: pointer;display: block;width: 100%;margin-bottom: 0;padding: 0.3em;box-sizing: border-box;text-align: center;}#sk-container-id-3 label.sk-toggleable__label-arrow:before {content: \"▸\";float: left;margin-right: 0.25em;color: #696969;}#sk-container-id-3 label.sk-toggleable__label-arrow:hover:before {color: black;}#sk-container-id-3 div.sk-estimator:hover label.sk-toggleable__label-arrow:before {color: black;}#sk-container-id-3 div.sk-toggleable__content {max-height: 0;max-width: 0;overflow: hidden;text-align: left;background-color: #f0f8ff;}#sk-container-id-3 div.sk-toggleable__content pre {margin: 0.2em;color: black;border-radius: 0.25em;background-color: #f0f8ff;}#sk-container-id-3 input.sk-toggleable__control:checked~div.sk-toggleable__content {max-height: 200px;max-width: 100%;overflow: auto;}#sk-container-id-3 input.sk-toggleable__control:checked~label.sk-toggleable__label-arrow:before {content: \"▾\";}#sk-container-id-3 div.sk-estimator input.sk-toggleable__control:checked~label.sk-toggleable__label {background-color: #d4ebff;}#sk-container-id-3 div.sk-label input.sk-toggleable__control:checked~label.sk-toggleable__label {background-color: #d4ebff;}#sk-container-id-3 input.sk-hidden--visually {border: 0;clip: rect(1px 1px 1px 1px);clip: rect(1px, 1px, 1px, 1px);height: 1px;margin: -1px;overflow: hidden;padding: 0;position: absolute;width: 1px;}#sk-container-id-3 div.sk-estimator {font-family: monospace;background-color: #f0f8ff;border: 1px dotted black;border-radius: 0.25em;box-sizing: border-box;margin-bottom: 0.5em;}#sk-container-id-3 div.sk-estimator:hover {background-color: #d4ebff;}#sk-container-id-3 div.sk-parallel-item::after {content: \"\";width: 100%;border-bottom: 1px solid gray;flex-grow: 1;}#sk-container-id-3 div.sk-label:hover label.sk-toggleable__label {background-color: #d4ebff;}#sk-container-id-3 div.sk-serial::before {content: \"\";position: absolute;border-left: 1px solid gray;box-sizing: border-box;top: 0;bottom: 0;left: 50%;z-index: 0;}#sk-container-id-3 div.sk-serial {display: flex;flex-direction: column;align-items: center;background-color: white;padding-right: 0.2em;padding-left: 0.2em;position: relative;}#sk-container-id-3 div.sk-item {position: relative;z-index: 1;}#sk-container-id-3 div.sk-parallel {display: flex;align-items: stretch;justify-content: center;background-color: white;position: relative;}#sk-container-id-3 div.sk-item::before, #sk-container-id-3 div.sk-parallel-item::before {content: \"\";position: absolute;border-left: 1px solid gray;box-sizing: border-box;top: 0;bottom: 0;left: 50%;z-index: -1;}#sk-container-id-3 div.sk-parallel-item {display: flex;flex-direction: column;z-index: 1;position: relative;background-color: white;}#sk-container-id-3 div.sk-parallel-item:first-child::after {align-self: flex-end;width: 50%;}#sk-container-id-3 div.sk-parallel-item:last-child::after {align-self: flex-start;width: 50%;}#sk-container-id-3 div.sk-parallel-item:only-child::after {width: 0;}#sk-container-id-3 div.sk-dashed-wrapped {border: 1px dashed gray;margin: 0 0.4em 0.5em 0.4em;box-sizing: border-box;padding-bottom: 0.4em;background-color: white;}#sk-container-id-3 div.sk-label label {font-family: monospace;font-weight: bold;display: inline-block;line-height: 1.2em;}#sk-container-id-3 div.sk-label-container {text-align: center;}#sk-container-id-3 div.sk-container {/* jupyter's `normalize.less` sets `[hidden] { display: none; }` but bootstrap.min.css set `[hidden] { display: none !important; }` so we also need the `!important` here to be able to override the default hidden behavior on the sphinx rendered scikit-learn.org. See: https://github.com/scikit-learn/scikit-learn/issues/21755 */display: inline-block !important;position: relative;}#sk-container-id-3 div.sk-text-repr-fallback {display: none;}</style><div id=\"sk-container-id-3\" class=\"sk-top-container\"><div class=\"sk-text-repr-fallback\"><pre>MLPClassifier(alpha=0.003, early_stopping=True, max_iter=500, verbose=True)</pre><b>In a Jupyter environment, please rerun this cell to show the HTML representation or trust the notebook. <br />On GitHub, the HTML representation is unable to render, please try loading this page with nbviewer.org.</b></div><div class=\"sk-container\" hidden><div class=\"sk-item\"><div class=\"sk-estimator sk-toggleable\"><input class=\"sk-toggleable__control sk-hidden--visually\" id=\"sk-estimator-id-3\" type=\"checkbox\" checked><label for=\"sk-estimator-id-3\" class=\"sk-toggleable__label sk-toggleable__label-arrow\">MLPClassifier</label><div class=\"sk-toggleable__content\"><pre>MLPClassifier(alpha=0.003, early_stopping=True, max_iter=500, verbose=True)</pre></div></div></div></div></div>"
      ],
      "text/plain": [
       "MLPClassifier(alpha=0.003, early_stopping=True, max_iter=500, verbose=True)"
      ]
     },
     "execution_count": 19,
     "metadata": {},
     "output_type": "execute_result"
    }
   ],
   "source": [
    "classifier.fit(X_train, y_train)"
   ]
  },
  {
   "cell_type": "code",
   "execution_count": 20,
   "id": "c89097e1-6396-46dc-9641-fbd9081bb17a",
   "metadata": {},
   "outputs": [],
   "source": [
    "predicted = classifier.predict(X_test)\n",
    "probabilities = classifier.predict_proba(X_test)"
   ]
  },
  {
   "cell_type": "code",
   "execution_count": 21,
   "id": "6a1c7113-fb7e-4d22-b4fa-bb5449ef442b",
   "metadata": {},
   "outputs": [
    {
     "name": "stdout",
     "output_type": "stream",
     "text": [
      "0.9997902401751371 4\n",
      "0.9908545088205466 0\n",
      "0.9966654578854773 5\n",
      "0.989575899596126 3\n"
     ]
    }
   ],
   "source": [
    "for i in range(4):\n",
    "    print(probabilities[i][predicted[i]],predicted[i])"
   ]
  },
  {
   "cell_type": "code",
   "execution_count": null,
   "id": "9d69a9d2-6225-4f34-b4b0-5f9f34b3a92e",
   "metadata": {},
   "outputs": [],
   "source": [
    "predicted = classifier.predict(digits.imgaes)\n",
    "probabilities = classifier.predict_proba(X_test)"
   ]
  },
  {
   "cell_type": "code",
   "execution_count": 25,
   "id": "802fd92f-8b06-4e9a-97d7-eec3e66e2405",
   "metadata": {},
   "outputs": [
    {
     "data": {
      "image/png": "[encoded data removed]",
      "text/plain": [
       "<Figure size 640x480 with 4 Axes>"
      ]
     },
     "metadata": {},
     "output_type": "display_data"
    }
   ],
   "source": [
    "fig, axes = plt.subplots(1, 4)\n",
    "images_and_predictions = list(zip(digits.images[n_samples // 2:], predicted))\n",
    "for ax, i in zip(axes,range(4)):\n",
    "    #ax.set_axis_off()\n",
    "    ax.imshow(digits.images[(n_samples//2)+i], cmap=plt.cm.gray_r, interpolation='nearest')\n",
    "    ax.set_title(f'Pred: {predicted[i]} P:{probabilities[i][predicted[i]]:2.2f}')\n",
    "    ax.set_xlabel(f'Real: {digits.target[i]}',fontsize=12)"
   ]
  },
  {
   "cell_type": "code",
   "execution_count": null,
   "id": "4303cd78-e52a-45bd-9341-c4e7156fd0ae",
   "metadata": {},
   "outputs": [],
   "source": []
  }
 ],
 "metadata": {
  "kernelspec": {
   "display_name": "Python 3 (ipykernel)",
   "language": "python",
   "name": "python3"
  },
  "language_info": {
   "codemirror_mode": {
    "name": "ipython",
    "version": 3
   },
   "file_extension": ".py",
   "mimetype": "text/x-python",
   "name": "python",
   "nbconvert_exporter": "python",
   "pygments_lexer": "ipython3",
   "version": "3.10.8"
  }
 },
 "nbformat": 4,
 "nbformat_minor": 5
}
